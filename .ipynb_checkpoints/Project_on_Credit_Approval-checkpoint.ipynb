{
 "cells": [
  {
   "cell_type": "markdown",
   "id": "b1b39882",
   "metadata": {},
   "source": [
    "## Project on Credit Approval"
   ]
  },
  {
   "cell_type": "markdown",
   "id": "ec061935",
   "metadata": {},
   "source": [
    "### Background of the Project\n",
    "- In Banking, Financial services and Insurance (BFSI) sector, issuing a credit card to the customer is one of the major task which needs lot of analysis regarding the behaviour of the customer. Issuing a credit card requires a set of primary data of a customer depending on which one can study the behaoviour of the customer and can get some insights on pattern in the behaviour of the customer. \n",
    "- This study needs lot of time period before coming to the decision of issuing a credit card or not. Further wrong decision of not approving a credit card for a potential customer leads to the loss of business of a financial institution.\n",
    "- Same loss in the business is incurred in case the approval of card is done for the risky applicant whose behaviour is not as per the minimum qualifying requirement set by a financial institution.\n",
    "- This time-consuming task can be automated and the time in this process can be cut by training a specific Machine Learning model which is suited to do this task.\n",
    "- A well trained, tested and validated Classification algorithm is best suited to complete such king of tasks, which reduces the time required in this decision making process.\n",
    "- Such a ML model should be provided with sufficient data so that the model can be trained with greater accuracy of the prediction on testing as well as validation data set. "
   ]
  },
  {
   "cell_type": "markdown",
   "id": "a5e2153b",
   "metadata": {},
   "source": [
    "#### 1. Problem Statement:\n",
    "- The current task in this project is to predict the decision regarding whether to approve the credit card application or not. This is a binary classification problem. The dataset from a client consists of primary data regarding the credit card applications. The task is to train model with best accuracy of prediction on training as well as testing dataset. "
   ]
  },
  {
   "cell_type": "markdown",
   "id": "666fd31b",
   "metadata": {},
   "source": [
    "#### 2. Data gathering:\n",
    "- The data gathered from client for current problem consists of total of 15 features and 768 records. The raw data acquired from the client should be thoroughly analysed for its quality and nature. \n",
    "- The dataset is supplied in .csv foramt which can be read in pandas and detail analysis can be completed."
   ]
  },
  {
   "cell_type": "markdown",
   "id": "2b70adcb",
   "metadata": {},
   "source": [
    "#### 3. Exploratory Data Analysis (EDA)\n"
   ]
  },
  {
   "cell_type": "code",
   "execution_count": 2,
   "id": "ad2f3ed7",
   "metadata": {},
   "outputs": [],
   "source": [
    "import pandas as pd\n",
    "import numpy as np\n",
    "import seaborn as sns\n",
    "import matplotlib.pyplot as plt"
   ]
  },
  {
   "cell_type": "code",
   "execution_count": 2,
   "id": "e9b93932",
   "metadata": {
    "scrolled": true
   },
   "outputs": [
    {
     "data": {
      "text/html": [
       "<div>\n",
       "<style scoped>\n",
       "    .dataframe tbody tr th:only-of-type {\n",
       "        vertical-align: middle;\n",
       "    }\n",
       "\n",
       "    .dataframe tbody tr th {\n",
       "        vertical-align: top;\n",
       "    }\n",
       "\n",
       "    .dataframe thead th {\n",
       "        text-align: right;\n",
       "    }\n",
       "</style>\n",
       "<table border=\"1\" class=\"dataframe\">\n",
       "  <thead>\n",
       "    <tr style=\"text-align: right;\">\n",
       "      <th></th>\n",
       "      <th>A15</th>\n",
       "      <th>A14</th>\n",
       "      <th>A13</th>\n",
       "      <th>A12</th>\n",
       "      <th>A11</th>\n",
       "      <th>A10</th>\n",
       "      <th>A9</th>\n",
       "      <th>A8</th>\n",
       "      <th>A7</th>\n",
       "      <th>A6</th>\n",
       "      <th>A5</th>\n",
       "      <th>A4</th>\n",
       "      <th>A3</th>\n",
       "      <th>A2</th>\n",
       "      <th>A1</th>\n",
       "      <th>A16</th>\n",
       "    </tr>\n",
       "  </thead>\n",
       "  <tbody>\n",
       "    <tr>\n",
       "      <th>0</th>\n",
       "      <td>0</td>\n",
       "      <td>202.0</td>\n",
       "      <td>g</td>\n",
       "      <td>f</td>\n",
       "      <td>1</td>\n",
       "      <td>t</td>\n",
       "      <td>t</td>\n",
       "      <td>1.25</td>\n",
       "      <td>v</td>\n",
       "      <td>w</td>\n",
       "      <td>g</td>\n",
       "      <td>u</td>\n",
       "      <td>0.000</td>\n",
       "      <td>30.83</td>\n",
       "      <td>b</td>\n",
       "      <td>+</td>\n",
       "    </tr>\n",
       "    <tr>\n",
       "      <th>1</th>\n",
       "      <td>560</td>\n",
       "      <td>43.0</td>\n",
       "      <td>g</td>\n",
       "      <td>f</td>\n",
       "      <td>6</td>\n",
       "      <td>t</td>\n",
       "      <td>t</td>\n",
       "      <td>3.04</td>\n",
       "      <td>h</td>\n",
       "      <td>q</td>\n",
       "      <td>g</td>\n",
       "      <td>u</td>\n",
       "      <td>4.460</td>\n",
       "      <td>58.67</td>\n",
       "      <td>a</td>\n",
       "      <td>+</td>\n",
       "    </tr>\n",
       "    <tr>\n",
       "      <th>2</th>\n",
       "      <td>824</td>\n",
       "      <td>280.0</td>\n",
       "      <td>g</td>\n",
       "      <td>f</td>\n",
       "      <td>0</td>\n",
       "      <td>f</td>\n",
       "      <td>t</td>\n",
       "      <td>1.50</td>\n",
       "      <td>h</td>\n",
       "      <td>q</td>\n",
       "      <td>g</td>\n",
       "      <td>u</td>\n",
       "      <td>0.500</td>\n",
       "      <td>24.50</td>\n",
       "      <td>a</td>\n",
       "      <td>+</td>\n",
       "    </tr>\n",
       "    <tr>\n",
       "      <th>3</th>\n",
       "      <td>3</td>\n",
       "      <td>100.0</td>\n",
       "      <td>g</td>\n",
       "      <td>t</td>\n",
       "      <td>5</td>\n",
       "      <td>t</td>\n",
       "      <td>t</td>\n",
       "      <td>3.75</td>\n",
       "      <td>v</td>\n",
       "      <td>w</td>\n",
       "      <td>g</td>\n",
       "      <td>u</td>\n",
       "      <td>1.540</td>\n",
       "      <td>27.83</td>\n",
       "      <td>b</td>\n",
       "      <td>+</td>\n",
       "    </tr>\n",
       "    <tr>\n",
       "      <th>4</th>\n",
       "      <td>0</td>\n",
       "      <td>120.0</td>\n",
       "      <td>s</td>\n",
       "      <td>f</td>\n",
       "      <td>0</td>\n",
       "      <td>f</td>\n",
       "      <td>t</td>\n",
       "      <td>1.71</td>\n",
       "      <td>v</td>\n",
       "      <td>w</td>\n",
       "      <td>g</td>\n",
       "      <td>u</td>\n",
       "      <td>5.625</td>\n",
       "      <td>20.17</td>\n",
       "      <td>b</td>\n",
       "      <td>+</td>\n",
       "    </tr>\n",
       "  </tbody>\n",
       "</table>\n",
       "</div>"
      ],
      "text/plain": [
       "   A15    A14 A13 A12  A11 A10 A9    A8 A7 A6 A5 A4     A3     A2 A1 A16\n",
       "0    0  202.0   g   f    1   t  t  1.25  v  w  g  u  0.000  30.83  b   +\n",
       "1  560   43.0   g   f    6   t  t  3.04  h  q  g  u  4.460  58.67  a   +\n",
       "2  824  280.0   g   f    0   f  t  1.50  h  q  g  u  0.500  24.50  a   +\n",
       "3    3  100.0   g   t    5   t  t  3.75  v  w  g  u  1.540  27.83  b   +\n",
       "4    0  120.0   s   f    0   f  t  1.71  v  w  g  u  5.625  20.17  b   +"
      ]
     },
     "execution_count": 2,
     "metadata": {},
     "output_type": "execute_result"
    }
   ],
   "source": [
    "credit_data=pd.read_csv(\"credit approval.csv\")\n",
    "credit_data.head()"
   ]
  },
  {
   "cell_type": "code",
   "execution_count": 11,
   "id": "cc274e9e",
   "metadata": {},
   "outputs": [
    {
     "name": "stdout",
     "output_type": "stream",
     "text": [
      "<class 'pandas.core.frame.DataFrame'>\n",
      "RangeIndex: 690 entries, 0 to 689\n",
      "Data columns (total 16 columns):\n",
      " #   Column  Non-Null Count  Dtype  \n",
      "---  ------  --------------  -----  \n",
      " 0   A15     690 non-null    int64  \n",
      " 1   A14     677 non-null    float64\n",
      " 2   A13     690 non-null    object \n",
      " 3   A12     690 non-null    object \n",
      " 4   A11     690 non-null    int64  \n",
      " 5   A10     690 non-null    object \n",
      " 6   A9      690 non-null    object \n",
      " 7   A8      690 non-null    float64\n",
      " 8   A7      681 non-null    object \n",
      " 9   A6      681 non-null    object \n",
      " 10  A5      684 non-null    object \n",
      " 11  A4      684 non-null    object \n",
      " 12  A3      690 non-null    float64\n",
      " 13  A2      678 non-null    float64\n",
      " 14  A1      678 non-null    object \n",
      " 15  A16     690 non-null    object \n",
      "dtypes: float64(4), int64(2), object(10)\n",
      "memory usage: 86.4+ KB\n"
     ]
    }
   ],
   "source": [
    "credit_data.info()"
   ]
  },
  {
   "cell_type": "code",
   "execution_count": 3,
   "id": "209a55ee",
   "metadata": {},
   "outputs": [
    {
     "data": {
      "text/plain": [
       "array(['+', '-'], dtype=object)"
      ]
     },
     "execution_count": 3,
     "metadata": {},
     "output_type": "execute_result"
    }
   ],
   "source": [
    "credit_data[\"A16\"].unique()"
   ]
  },
  {
   "cell_type": "code",
   "execution_count": 4,
   "id": "12e0cb9e",
   "metadata": {
    "scrolled": true
   },
   "outputs": [
    {
     "data": {
      "text/plain": [
       "array(['b', 'a', nan], dtype=object)"
      ]
     },
     "execution_count": 4,
     "metadata": {},
     "output_type": "execute_result"
    }
   ],
   "source": [
    "credit_data[\"A1\"].unique()"
   ]
  },
  {
   "cell_type": "code",
   "execution_count": 6,
   "id": "837be3b7",
   "metadata": {
    "scrolled": true
   },
   "outputs": [
    {
     "data": {
      "text/plain": [
       "349"
      ]
     },
     "execution_count": 6,
     "metadata": {},
     "output_type": "execute_result"
    }
   ],
   "source": [
    "credit_data[\"A2\"].nunique()"
   ]
  },
  {
   "cell_type": "code",
   "execution_count": 7,
   "id": "c4330e16",
   "metadata": {},
   "outputs": [
    {
     "data": {
      "text/plain": [
       "count    678.000000\n",
       "mean      31.568171\n",
       "std       11.957862\n",
       "min       13.750000\n",
       "25%       22.602500\n",
       "50%       28.460000\n",
       "75%       38.230000\n",
       "max       80.250000\n",
       "Name: A2, dtype: float64"
      ]
     },
     "execution_count": 7,
     "metadata": {},
     "output_type": "execute_result"
    }
   ],
   "source": [
    "credit_data[\"A2\"].describe()"
   ]
  },
  {
   "cell_type": "code",
   "execution_count": 8,
   "id": "0cb2399a",
   "metadata": {
    "scrolled": true
   },
   "outputs": [
    {
     "data": {
      "text/plain": [
       "12"
      ]
     },
     "execution_count": 8,
     "metadata": {},
     "output_type": "execute_result"
    }
   ],
   "source": [
    "credit_data[\"A2\"].isna().sum()"
   ]
  },
  {
   "cell_type": "code",
   "execution_count": 14,
   "id": "5d388a2a",
   "metadata": {
    "scrolled": true
   },
   "outputs": [
    {
     "data": {
      "text/plain": [
       "count    690.000000\n",
       "mean       4.758725\n",
       "std        4.978163\n",
       "min        0.000000\n",
       "25%        1.000000\n",
       "50%        2.750000\n",
       "75%        7.207500\n",
       "max       28.000000\n",
       "Name: A3, dtype: float64"
      ]
     },
     "execution_count": 14,
     "metadata": {},
     "output_type": "execute_result"
    }
   ],
   "source": [
    "credit_data[\"A3\"].describe()"
   ]
  },
  {
   "cell_type": "code",
   "execution_count": 15,
   "id": "85b8f03a",
   "metadata": {},
   "outputs": [
    {
     "data": {
      "text/plain": [
       "array(['u', 'y', nan, 'l'], dtype=object)"
      ]
     },
     "execution_count": 15,
     "metadata": {},
     "output_type": "execute_result"
    }
   ],
   "source": [
    "credit_data[\"A4\"].unique()"
   ]
  },
  {
   "cell_type": "code",
   "execution_count": 17,
   "id": "f90f96e7",
   "metadata": {
    "scrolled": true
   },
   "outputs": [
    {
     "data": {
      "text/plain": [
       "array(['g', 'p', nan, 'gg'], dtype=object)"
      ]
     },
     "execution_count": 17,
     "metadata": {},
     "output_type": "execute_result"
    }
   ],
   "source": [
    "credit_data[\"A5\"].unique()"
   ]
  },
  {
   "cell_type": "code",
   "execution_count": 18,
   "id": "f5eef3f6",
   "metadata": {},
   "outputs": [
    {
     "data": {
      "text/plain": [
       "array(['w', 'q', 'm', 'r', 'cc', 'k', 'c', 'd', 'x', 'i', 'e', 'aa', 'ff',\n",
       "       'j', nan], dtype=object)"
      ]
     },
     "execution_count": 18,
     "metadata": {},
     "output_type": "execute_result"
    }
   ],
   "source": [
    "credit_data[\"A6\"].unique()"
   ]
  },
  {
   "cell_type": "code",
   "execution_count": 23,
   "id": "20d10aad",
   "metadata": {},
   "outputs": [
    {
     "data": {
      "text/plain": [
       "array(['v', 'h', 'bb', 'ff', 'j', 'z', nan, 'o', 'dd', 'n'], dtype=object)"
      ]
     },
     "execution_count": 23,
     "metadata": {},
     "output_type": "execute_result"
    }
   ],
   "source": [
    "credit_data[\"A7\"].unique()"
   ]
  },
  {
   "cell_type": "markdown",
   "id": "4363e521",
   "metadata": {},
   "source": [
    "- Here, as it is said, the attributes name in the dataset are changed to keep the confidentiality of the information.\n",
    "- So, the attribute names are like A1, A2... which does not give any information. \n",
    "- After searching for its exact meaning and after some study the actual name of the attribute can be like below.\n",
    "\n",
    "Attribute Information\n",
    "- A16 -- The values are + and -, this means it is a target column. which tells us + means approved and - means not approved. So we can rename the attribute A16 as \"approval status\".\n",
    "- A1 -- This attribute has only two unique values along with a missing values. We can say that this information is about the gender of the candidate. Missing values can be treated later. So we can change the name of the feature as \"gender\"\n",
    "- A2 -- The minimum and maximum value in this features is 13.75 and 80.25, this means this data is indicating about the age of an applicant. Because Age of a person in most cases will be a float value between 0 to 100 and in case of credit and financial institution it will be above 18 years. So we will rename A2 attribute as \"age\"\n",
    "- A3 -- This attribute is also a continuous data in float. This attribute tells us about the mean time the applicant resides the given address in hours for a day. This name can be changed as \"mean time at address\".\n",
    "- A4 -- This attribute has categorical values. There are three categorical values. This attribute tells about the home status of the applicant i.e. living with parents, own a house and living in rented apartment. The column will be changed to home status\n",
    "- A5 -- The unique values in this feature are three. So this will be regarding marital staus of the applicant like married, not married and separated. This column will be renamed as marital status.\n",
    "- A6 -- This colum have datatype as object and have total of 14 unique entries and also nan values. After searching for the label of the feature, it is found that the name of the feature is \"current occupation\". So column will be changed to current occupation.\n",
    "- A7 -- This column have dtype as object. The name of the column after searching is \"current job status\". This column will be renamed to \"current job status\". The column has 9 unique values. \n",
    "- A8 -- This column have dtype as float. The name of the column after searching is \"mean time with employers\".\n",
    "- A9 -- This column have dtype as object. The unique values are 2. The name of the column is \"other investments\".\n",
    "- A10 -- This colum have dtype as object with two unique values. The name of the column is \"bank account\".\n",
    "- A11 -- This column is continuous with dtype as int. There are 23 unique values. The name of the column is \"time with bank\".\n",
    "- A12 -- This is categorical column with two unique values. The name of colum is \"liabality reference\".\n",
    "- A13 -- This is categorical column with three unique values. The name of column is \"account reference\".\n",
    "- A14 -- This is continuous column with range of values between 0-2000. The name of column is \"monthly housing expenses\".\n",
    "- A15 -- This is continuous column with range of values between 0-100000. The name of column if \"saving account balance\""
   ]
  },
  {
   "cell_type": "code",
   "execution_count": null,
   "id": "fac6f363",
   "metadata": {},
   "outputs": [],
   "source": [
    "pd.options.display.max_rows=None"
   ]
  },
  {
   "cell_type": "markdown",
   "id": "b4a35a2f",
   "metadata": {},
   "source": [
    "### Renaming column with their actual name"
   ]
  },
  {
   "cell_type": "code",
   "execution_count": 3,
   "id": "9f23f36b",
   "metadata": {},
   "outputs": [],
   "source": [
    "column_names={\"A15\":\"savings Acc balance\",\"A14\":\"monthly hou expense\",\"A13\":\"acc refe\",\n",
    "              \"A12\":\"liability ref\",\"A11\":\"Time with bank\",\"A10\":\"bank account\",\n",
    "              \"A9\":\"other invest\",\"A8\":\"mean time with employer\",\"A7\":\"current job status\",\n",
    "              \"A6\":\"current occupation\",\"A5\":\"marital status\",\"A4\":\"home status\",\n",
    "              \"A3\":\"mean time at add\",\"A2\":\"age\",\"A1\":\"gender\",\"A16\":\"target\"}"
   ]
  },
  {
   "cell_type": "code",
   "execution_count": 4,
   "id": "71509bfc",
   "metadata": {},
   "outputs": [
    {
     "name": "stdout",
     "output_type": "stream",
     "text": [
      "<class 'pandas.core.frame.DataFrame'>\n",
      "RangeIndex: 690 entries, 0 to 689\n",
      "Data columns (total 16 columns):\n",
      " #   Column                   Non-Null Count  Dtype  \n",
      "---  ------                   --------------  -----  \n",
      " 0   savings Acc balance      690 non-null    int64  \n",
      " 1   monthly hou expense      677 non-null    float64\n",
      " 2   acc refe                 690 non-null    object \n",
      " 3   liability ref            690 non-null    object \n",
      " 4   Time with bank           690 non-null    int64  \n",
      " 5   bank account             690 non-null    object \n",
      " 6   other invest             690 non-null    object \n",
      " 7   mean time with employer  690 non-null    float64\n",
      " 8   current job status       681 non-null    object \n",
      " 9   current occupation       681 non-null    object \n",
      " 10  marital status           684 non-null    object \n",
      " 11  home status              684 non-null    object \n",
      " 12  mean time at add         690 non-null    float64\n",
      " 13  age                      678 non-null    float64\n",
      " 14  gender                   678 non-null    object \n",
      " 15  target                   690 non-null    object \n",
      "dtypes: float64(4), int64(2), object(10)\n",
      "memory usage: 86.4+ KB\n"
     ]
    }
   ],
   "source": [
    "final_data=credit_data.rename(columns=column_names)\n",
    "final_data.info()"
   ]
  },
  {
   "cell_type": "code",
   "execution_count": 43,
   "id": "f621c8ce",
   "metadata": {},
   "outputs": [],
   "source": [
    "credit_dtype=pd.DataFrame(final_data.dtypes)\n",
    "final_data.count() #the output of this is a dataframe\n",
    "count=pd.concat([credit_dtype,final_data.count()],axis=1).to_excel(\"dtype.xlsx\")\n"
   ]
  },
  {
   "cell_type": "code",
   "execution_count": 49,
   "id": "efcdb8c8",
   "metadata": {},
   "outputs": [],
   "source": [
    "final_data.describe().to_excel(\"report.xlsx\")"
   ]
  },
  {
   "cell_type": "code",
   "execution_count": 47,
   "id": "fafd480e",
   "metadata": {},
   "outputs": [
    {
     "data": {
      "text/plain": [
       "<Axes: xlabel='savings Acc balance', ylabel='Density'>"
      ]
     },
     "execution_count": 47,
     "metadata": {},
     "output_type": "execute_result"
    },
    {
     "data": {
      "image/png": "[encoded data removed]",
      "text/plain": [
       "<Figure size 640x480 with 1 Axes>"
      ]
     },
     "metadata": {},
     "output_type": "display_data"
    }
   ],
   "source": [
    "sns.kdeplot(final_data['savings Acc balance'])"
   ]
  },
  {
   "cell_type": "code",
   "execution_count": 7,
   "id": "cac19135",
   "metadata": {},
   "outputs": [
    {
     "data": {
      "text/plain": [
       "Index(['savings Acc balance', 'monthly hou expense', 'acc refe',\n",
       "       'liability ref', 'Time with bank', 'bank account', 'other invest',\n",
       "       'mean time with employer', 'current job status', 'current occupation',\n",
       "       'marital status', 'home status', 'mean time at add', 'age', 'gender',\n",
       "       'target'],\n",
       "      dtype='object')"
      ]
     },
     "execution_count": 7,
     "metadata": {},
     "output_type": "execute_result"
    }
   ],
   "source": [
    "final_data.columns"
   ]
  },
  {
   "cell_type": "code",
   "execution_count": 5,
   "id": "cc5bff2f",
   "metadata": {},
   "outputs": [
    {
     "data": {
      "text/plain": [
       "<Axes: ylabel='savings Acc balance'>"
      ]
     },
     "execution_count": 5,
     "metadata": {},
     "output_type": "execute_result"
    },
    {
     "data": {
      "image/png": "[encoded data removed]",
      "text/plain": [
       "<Figure size 640x480 with 1 Axes>"
      ]
     },
     "metadata": {},
     "output_type": "display_data"
    }
   ],
   "source": [
    "sns.boxplot(final_data[\"savings Acc balance\"])"
   ]
  },
  {
   "cell_type": "code",
   "execution_count": 8,
   "id": "173b80a3",
   "metadata": {},
   "outputs": [
    {
     "data": {
      "text/plain": [
       "<Axes: xlabel='monthly hou expense', ylabel='Density'>"
      ]
     },
     "execution_count": 8,
     "metadata": {},
     "output_type": "execute_result"
    },
    {
     "data": {
      "image/png": "[encoded data removed]",
      "text/plain": [
       "<Figure size 640x480 with 1 Axes>"
      ]
     },
     "metadata": {},
     "output_type": "display_data"
    }
   ],
   "source": [
    "sns.kdeplot(final_data['monthly hou expense'])"
   ]
  },
  {
   "cell_type": "code",
   "execution_count": 9,
   "id": "16ba3c4b",
   "metadata": {},
   "outputs": [
    {
     "data": {
      "text/plain": [
       "<Axes: ylabel='monthly hou expense'>"
      ]
     },
     "execution_count": 9,
     "metadata": {},
     "output_type": "execute_result"
    },
    {
     "data": {
      "image/png": "[encoded data removed]",
      "text/plain": [
       "<Figure size 640x480 with 1 Axes>"
      ]
     },
     "metadata": {},
     "output_type": "display_data"
    }
   ],
   "source": [
    "sns.boxplot(final_data[\"monthly hou expense\"])"
   ]
  },
  {
   "cell_type": "code",
   "execution_count": 11,
   "id": "327b3fa0",
   "metadata": {},
   "outputs": [
    {
     "data": {
      "text/plain": [
       "acc refe\n",
       "g    625\n",
       "s     57\n",
       "p      8\n",
       "Name: count, dtype: int64"
      ]
     },
     "execution_count": 11,
     "metadata": {},
     "output_type": "execute_result"
    }
   ],
   "source": [
    "final_data[\"acc refe\"].value_counts()"
   ]
  },
  {
   "cell_type": "code",
   "execution_count": 13,
   "id": "c1a72aed",
   "metadata": {},
   "outputs": [
    {
     "data": {
      "text/plain": [
       "liability ref\n",
       "f    374\n",
       "t    316\n",
       "Name: count, dtype: int64"
      ]
     },
     "execution_count": 13,
     "metadata": {},
     "output_type": "execute_result"
    }
   ],
   "source": [
    "final_data[\"liability ref\"].value_counts()"
   ]
  },
  {
   "cell_type": "code",
   "execution_count": 14,
   "id": "95c7701a",
   "metadata": {},
   "outputs": [
    {
     "data": {
      "text/plain": [
       "<Axes: xlabel='Time with bank', ylabel='Density'>"
      ]
     },
     "execution_count": 14,
     "metadata": {},
     "output_type": "execute_result"
    },
    {
     "data": {
      "image/png": "[encoded data removed]",
      "text/plain": [
       "<Figure size 640x480 with 1 Axes>"
      ]
     },
     "metadata": {},
     "output_type": "display_data"
    }
   ],
   "source": [
    "sns.kdeplot(final_data['Time with bank'])"
   ]
  },
  {
   "cell_type": "code",
   "execution_count": 15,
   "id": "2f544fe5",
   "metadata": {
    "scrolled": true
   },
   "outputs": [
    {
     "data": {
      "text/plain": [
       "<Axes: ylabel='Time with bank'>"
      ]
     },
     "execution_count": 15,
     "metadata": {},
     "output_type": "execute_result"
    },
    {
     "data": {
      "image/png": "[encoded data removed]",
      "text/plain": [
       "<Figure size 640x480 with 1 Axes>"
      ]
     },
     "metadata": {},
     "output_type": "display_data"
    }
   ],
   "source": [
    "sns.boxplot(final_data['Time with bank'])"
   ]
  },
  {
   "cell_type": "code",
   "execution_count": 16,
   "id": "9475be6e",
   "metadata": {},
   "outputs": [
    {
     "data": {
      "text/plain": [
       "bank account\n",
       "f    395\n",
       "t    295\n",
       "Name: count, dtype: int64"
      ]
     },
     "execution_count": 16,
     "metadata": {},
     "output_type": "execute_result"
    }
   ],
   "source": [
    "final_data['bank account'].value_counts()"
   ]
  },
  {
   "cell_type": "code",
   "execution_count": 17,
   "id": "5b7daf94",
   "metadata": {},
   "outputs": [
    {
     "data": {
      "text/plain": [
       "other invest\n",
       "t    361\n",
       "f    329\n",
       "Name: count, dtype: int64"
      ]
     },
     "execution_count": 17,
     "metadata": {},
     "output_type": "execute_result"
    }
   ],
   "source": [
    "final_data['other invest'].value_counts()"
   ]
  },
  {
   "cell_type": "code",
   "execution_count": 18,
   "id": "b22f42d7",
   "metadata": {},
   "outputs": [
    {
     "data": {
      "text/plain": [
       "<Axes: xlabel='mean time with employer', ylabel='Density'>"
      ]
     },
     "execution_count": 18,
     "metadata": {},
     "output_type": "execute_result"
    },
    {
     "data": {
      "image/png": "[encoded data removed]",
      "text/plain": [
       "<Figure size 640x480 with 1 Axes>"
      ]
     },
     "metadata": {},
     "output_type": "display_data"
    }
   ],
   "source": [
    "sns.kdeplot(final_data['mean time with employer'])"
   ]
  },
  {
   "cell_type": "code",
   "execution_count": 19,
   "id": "a5021349",
   "metadata": {},
   "outputs": [
    {
     "data": {
      "text/plain": [
       "<Axes: ylabel='mean time with employer'>"
      ]
     },
     "execution_count": 19,
     "metadata": {},
     "output_type": "execute_result"
    },
    {
     "data": {
      "image/png": "[encoded data removed]",
      "text/plain": [
       "<Figure size 640x480 with 1 Axes>"
      ]
     },
     "metadata": {},
     "output_type": "display_data"
    }
   ],
   "source": [
    "sns.boxplot(final_data['mean time with employer'])"
   ]
  },
  {
   "cell_type": "code",
   "execution_count": 21,
   "id": "62653817",
   "metadata": {},
   "outputs": [
    {
     "data": {
      "text/plain": [
       "current job status\n",
       "v     399\n",
       "h     138\n",
       "bb     59\n",
       "ff     57\n",
       "j       8\n",
       "z       8\n",
       "dd      6\n",
       "n       4\n",
       "o       2\n",
       "Name: count, dtype: int64"
      ]
     },
     "execution_count": 21,
     "metadata": {},
     "output_type": "execute_result"
    }
   ],
   "source": [
    "final_data['current job status'].value_counts()"
   ]
  },
  {
   "cell_type": "code",
   "execution_count": 22,
   "id": "b5091106",
   "metadata": {},
   "outputs": [
    {
     "data": {
      "text/plain": [
       "current occupation\n",
       "c     137\n",
       "q      78\n",
       "w      64\n",
       "i      59\n",
       "aa     54\n",
       "ff     53\n",
       "k      51\n",
       "cc     41\n",
       "m      38\n",
       "x      38\n",
       "d      30\n",
       "e      25\n",
       "j      10\n",
       "r       3\n",
       "Name: count, dtype: int64"
      ]
     },
     "execution_count": 22,
     "metadata": {},
     "output_type": "execute_result"
    }
   ],
   "source": [
    "final_data['current occupation'].value_counts()"
   ]
  },
  {
   "cell_type": "code",
   "execution_count": 23,
   "id": "2c714e1a",
   "metadata": {},
   "outputs": [
    {
     "data": {
      "text/plain": [
       "marital status\n",
       "g     519\n",
       "p     163\n",
       "gg      2\n",
       "Name: count, dtype: int64"
      ]
     },
     "execution_count": 23,
     "metadata": {},
     "output_type": "execute_result"
    }
   ],
   "source": [
    "final_data['marital status'].value_counts()"
   ]
  },
  {
   "cell_type": "code",
   "execution_count": 24,
   "id": "09e46cc3",
   "metadata": {},
   "outputs": [
    {
     "data": {
      "text/plain": [
       "home status\n",
       "u    519\n",
       "y    163\n",
       "l      2\n",
       "Name: count, dtype: int64"
      ]
     },
     "execution_count": 24,
     "metadata": {},
     "output_type": "execute_result"
    }
   ],
   "source": [
    "final_data['home status'].value_counts()"
   ]
  },
  {
   "cell_type": "code",
   "execution_count": 25,
   "id": "779e8df0",
   "metadata": {},
   "outputs": [
    {
     "data": {
      "text/plain": [
       "<Axes: xlabel='mean time at add', ylabel='Density'>"
      ]
     },
     "execution_count": 25,
     "metadata": {},
     "output_type": "execute_result"
    },
    {
     "data": {
      "image/png": "[encoded data removed]",
      "text/plain": [
       "<Figure size 640x480 with 1 Axes>"
      ]
     },
     "metadata": {},
     "output_type": "display_data"
    }
   ],
   "source": [
    "sns.kdeplot(final_data['mean time at add'])"
   ]
  },
  {
   "cell_type": "code",
   "execution_count": 28,
   "id": "0c3b907f",
   "metadata": {},
   "outputs": [
    {
     "data": {
      "text/plain": [
       "<Axes: >"
      ]
     },
     "execution_count": 28,
     "metadata": {},
     "output_type": "execute_result"
    },
    {
     "data": {
      "image/png": "[encoded data removed]",
      "text/plain": [
       "<Figure size 640x480 with 1 Axes>"
      ]
     },
     "metadata": {},
     "output_type": "display_data"
    }
   ],
   "source": [
    "final_data[['mean time at add','age']].boxplot()"
   ]
  },
  {
   "cell_type": "code",
   "execution_count": 30,
   "id": "1c70d4e2",
   "metadata": {
    "scrolled": true
   },
   "outputs": [
    {
     "data": {
      "text/plain": [
       "<Axes: xlabel='age', ylabel='Density'>"
      ]
     },
     "execution_count": 30,
     "metadata": {},
     "output_type": "execute_result"
    },
    {
     "data": {
      "image/png": "[encoded data removed]",
      "text/plain": [
       "<Figure size 640x480 with 1 Axes>"
      ]
     },
     "metadata": {},
     "output_type": "display_data"
    }
   ],
   "source": [
    "sns.kdeplot(final_data['age'])"
   ]
  },
  {
   "cell_type": "code",
   "execution_count": 31,
   "id": "d0996960",
   "metadata": {},
   "outputs": [
    {
     "data": {
      "text/plain": [
       "gender\n",
       "b    468\n",
       "a    210\n",
       "Name: count, dtype: int64"
      ]
     },
     "execution_count": 31,
     "metadata": {},
     "output_type": "execute_result"
    }
   ],
   "source": [
    "final_data['gender'].value_counts()"
   ]
  },
  {
   "cell_type": "code",
   "execution_count": 20,
   "id": "eb593be2",
   "metadata": {
    "scrolled": true
   },
   "outputs": [
    {
     "data": {
      "text/plain": [
       "Index(['savings Acc balance', 'monthly hou expense', 'acc refe',\n",
       "       'liability ref', 'Time with bank', 'bank account', 'other invest',\n",
       "       'mean time with employer', 'current job status', 'current occupation',\n",
       "       'marital status', 'home status', 'mean time at add', 'age', 'gender',\n",
       "       'target'],\n",
       "      dtype='object')"
      ]
     },
     "execution_count": 20,
     "metadata": {},
     "output_type": "execute_result"
    }
   ],
   "source": [
    "final_data.columns"
   ]
  },
  {
   "cell_type": "markdown",
   "id": "96357970",
   "metadata": {},
   "source": [
    "### 4 Feature Engineering"
   ]
  },
  {
   "cell_type": "markdown",
   "id": "c7ea79f0",
   "metadata": {},
   "source": [
    "#### log transformation of feature \"savings Acc balance\""
   ]
  },
  {
   "cell_type": "code",
   "execution_count": 25,
   "id": "08363937",
   "metadata": {},
   "outputs": [
    {
     "data": {
      "text/plain": [
       "0      0.000000\n",
       "1      6.329721\n",
       "2      6.715383\n",
       "3      1.386294\n",
       "4      0.000000\n",
       "         ...   \n",
       "685    0.000000\n",
       "686    5.978886\n",
       "687    0.693147\n",
       "688    6.621406\n",
       "689    0.000000\n",
       "Name: savings Acc balance, Length: 690, dtype: float64"
      ]
     },
     "execution_count": 25,
     "metadata": {},
     "output_type": "execute_result"
    }
   ],
   "source": [
    "# \"Savings Acc balance\" column has extreme right skewed distribution and an outliers with large value.\n",
    "# this can be handled with log transformation.\n",
    "final_data_log=np.log(final_data['savings Acc balance'].add(1))# As the data has record with 0 (zero) value, its log can not\n",
    "# be computed. So it is transformed with log transformation.\n",
    "final_data_log"
   ]
  },
  {
   "cell_type": "markdown",
   "id": "28c4a029",
   "metadata": {},
   "source": [
    "- Log transformations are often recommended for skewed data, such as monetary measures or certain biological and demographic measures.\n",
    "- It can also be used when a variable grows or decays on an exponential scale.\n",
    "- The variable savings Acc balance decays exponential and after log transformation it becomes less skewed and no outliers present in the data as can be seen from following plots."
   ]
  },
  {
   "cell_type": "code",
   "execution_count": 39,
   "id": "17eb2c9f",
   "metadata": {},
   "outputs": [
    {
     "data": {
      "text/plain": [
       "<Axes: ylabel='savings Acc balance'>"
      ]
     },
     "execution_count": 39,
     "metadata": {},
     "output_type": "execute_result"
    },
    {
     "data": {
      "image/png": "[encoded data removed]",
      "text/plain": [
       "<Figure size 640x480 with 1 Axes>"
      ]
     },
     "metadata": {},
     "output_type": "display_data"
    }
   ],
   "source": [
    "sns.boxplot(final_data_log)"
   ]
  },
  {
   "cell_type": "code",
   "execution_count": 40,
   "id": "997db637",
   "metadata": {},
   "outputs": [
    {
     "data": {
      "text/plain": [
       "<Axes: xlabel='savings Acc balance', ylabel='Density'>"
      ]
     },
     "execution_count": 40,
     "metadata": {},
     "output_type": "execute_result"
    },
    {
     "data": {
      "image/png": "[encoded data removed]",
      "text/plain": [
       "<Figure size 640x480 with 1 Axes>"
      ]
     },
     "metadata": {},
     "output_type": "display_data"
    }
   ],
   "source": [
    "sns.kdeplot(final_data_log)"
   ]
  },
  {
   "cell_type": "markdown",
   "id": "65199760",
   "metadata": {},
   "source": [
    "#### log transformation of feature \"monthly hou expense\""
   ]
  },
  {
   "cell_type": "code",
   "execution_count": 27,
   "id": "dba7b2ac",
   "metadata": {},
   "outputs": [
    {
     "name": "stdout",
     "output_type": "stream",
     "text": [
      "<class 'pandas.core.series.Series'>\n",
      "RangeIndex: 690 entries, 0 to 689\n",
      "Series name: monthly hou expense\n",
      "Non-Null Count  Dtype  \n",
      "--------------  -----  \n",
      "690 non-null    float64\n",
      "dtypes: float64(1)\n",
      "memory usage: 5.5 KB\n"
     ]
    }
   ],
   "source": [
    "# feature has total of 13 missing values which are filled by 75% distribution value.\n",
    "expense_fill=final_data['monthly hou expense'].fillna(276)\n",
    "expense_fill.info()# missing values are filled with 75% value of the distribution i.e. 276."
   ]
  },
  {
   "cell_type": "code",
   "execution_count": 28,
   "id": "4347bee5",
   "metadata": {},
   "outputs": [],
   "source": [
    "# log transformation of 'monthly expense' -- addition of one is required to handle log of zero.\n",
    "expense_log=np.log(expense_fill.add(1))"
   ]
  },
  {
   "cell_type": "code",
   "execution_count": 46,
   "id": "30c4b9c5",
   "metadata": {},
   "outputs": [
    {
     "data": {
      "text/plain": [
       "<Axes: ylabel='monthly hou expense'>"
      ]
     },
     "execution_count": 46,
     "metadata": {},
     "output_type": "execute_result"
    },
    {
     "data": {
      "image/png": "[encoded data removed]",
      "text/plain": [
       "<Figure size 640x480 with 1 Axes>"
      ]
     },
     "metadata": {},
     "output_type": "display_data"
    }
   ],
   "source": [
    "sns.boxplot(expense_log)# the outliers impact is reduced by use of log transformation."
   ]
  },
  {
   "cell_type": "code",
   "execution_count": 47,
   "id": "a8198350",
   "metadata": {},
   "outputs": [
    {
     "data": {
      "text/plain": [
       "<Axes: xlabel='monthly hou expense', ylabel='Density'>"
      ]
     },
     "execution_count": 47,
     "metadata": {},
     "output_type": "execute_result"
    },
    {
     "data": {
      "image/png": "[encoded data removed]",
      "text/plain": [
       "<Figure size 640x480 with 1 Axes>"
      ]
     },
     "metadata": {},
     "output_type": "display_data"
    }
   ],
   "source": [
    "sns.kdeplot(expense_log)"
   ]
  },
  {
   "cell_type": "markdown",
   "id": "169cb6d8",
   "metadata": {},
   "source": [
    "- two peaks occur in the distribution which is case of multimodal distribution. it should be handled with other technique. but for now it is kept as it is."
   ]
  },
  {
   "cell_type": "code",
   "execution_count": 48,
   "id": "97568936",
   "metadata": {},
   "outputs": [
    {
     "data": {
      "text/plain": [
       "<Axes: xlabel='monthly hou expense', ylabel='Count'>"
      ]
     },
     "execution_count": 48,
     "metadata": {},
     "output_type": "execute_result"
    },
    {
     "data": {
      "image/png": "[encoded data removed]",
      "text/plain": [
       "<Figure size 640x480 with 1 Axes>"
      ]
     },
     "metadata": {},
     "output_type": "display_data"
    }
   ],
   "source": [
    "sns.histplot(expense_log)"
   ]
  },
  {
   "cell_type": "code",
   "execution_count": 57,
   "id": "dda93c34",
   "metadata": {},
   "outputs": [],
   "source": [
    "pd.options.display.max_rows=None"
   ]
  },
  {
   "cell_type": "code",
   "execution_count": 32,
   "id": "46b4cdbc",
   "metadata": {},
   "outputs": [],
   "source": [
    "from sklearn.preprocessing import OneHotEncoder,LabelEncoder # need to import liabrary"
   ]
  },
  {
   "cell_type": "code",
   "execution_count": 62,
   "id": "2206a961",
   "metadata": {},
   "outputs": [
    {
     "data": {
      "text/plain": [
       "3"
      ]
     },
     "execution_count": 62,
     "metadata": {},
     "output_type": "execute_result"
    }
   ],
   "source": [
    "final_data['acc refe'].nunique()"
   ]
  },
  {
   "cell_type": "markdown",
   "id": "ea5e1152",
   "metadata": {},
   "source": [
    "#### use of one hot encoding for feature \"acc refe\""
   ]
  },
  {
   "cell_type": "code",
   "execution_count": 33,
   "id": "d39ebfc7",
   "metadata": {},
   "outputs": [],
   "source": [
    "acc_enc=OneHotEncoder() # creation of object for encoding.\n",
    "acc_enc_data=acc_enc.fit_transform(final_data[['acc refe']]).toarray() # output of this is a matrix which should be saved in array\n",
    "acc_enc_fr=pd.DataFrame(acc_enc_data,columns=final_data['acc refe'].unique()) # need to create dataframe of encoding operation\n",
    "# the saved output in the form of array is converted into a dataframe. \n"
   ]
  },
  {
   "cell_type": "markdown",
   "id": "433d04b8",
   "metadata": {},
   "source": [
    "#### label encoding of feature \"liability reference\""
   ]
  },
  {
   "cell_type": "code",
   "execution_count": 38,
   "id": "24327dd3",
   "metadata": {},
   "outputs": [
    {
     "data": {
      "text/plain": [
       "array([0, 1])"
      ]
     },
     "execution_count": 38,
     "metadata": {},
     "output_type": "execute_result"
    }
   ],
   "source": [
    "# label encoding of column liability reference\n",
    "lb_enc=LabelEncoder()# creation of object.\n",
    "final_data['liability ref']=lb_enc.fit_transform(final_data['liability ref'])\n",
    "final_data['liability ref'].unique() # label encoding of column is done"
   ]
  },
  {
   "cell_type": "markdown",
   "id": "868e8506",
   "metadata": {},
   "source": [
    "#### log transformation of feature \"Time with bank\""
   ]
  },
  {
   "cell_type": "code",
   "execution_count": 40,
   "id": "c2ada11d",
   "metadata": {
    "scrolled": true
   },
   "outputs": [
    {
     "data": {
      "text/plain": [
       "<Axes: ylabel='Time with bank'>"
      ]
     },
     "execution_count": 40,
     "metadata": {},
     "output_type": "execute_result"
    },
    {
     "data": {
      "image/png": "[encoded data removed]",
      "text/plain": [
       "<Figure size 640x480 with 1 Axes>"
      ]
     },
     "metadata": {},
     "output_type": "display_data"
    }
   ],
   "source": [
    "# log transformation of the feature is done by adding one to the column to avoid the issue of log(0).\n",
    "twb_log=np.log(final_data['Time with bank'].add(1))\n",
    "sns.boxplot(twb_log) # The effect of outliers is minimized. with only two datapoints in outliers range."
   ]
  },
  {
   "cell_type": "code",
   "execution_count": 83,
   "id": "0dfd8191",
   "metadata": {
    "scrolled": true
   },
   "outputs": [
    {
     "data": {
      "text/plain": [
       "<Axes: xlabel='Time with bank', ylabel='Density'>"
      ]
     },
     "execution_count": 83,
     "metadata": {},
     "output_type": "execute_result"
    },
    {
     "data": {
      "image/png": "[encoded data removed]",
      "text/plain": [
       "<Figure size 640x480 with 1 Axes>"
      ]
     },
     "metadata": {},
     "output_type": "display_data"
    }
   ],
   "source": [
    "sns.kdeplot(twb_log)# the distribution is still moderately right skewed. "
   ]
  },
  {
   "cell_type": "markdown",
   "id": "bf33fcf7",
   "metadata": {},
   "source": [
    "#### label encoding of feature \"bank account\""
   ]
  },
  {
   "cell_type": "code",
   "execution_count": 41,
   "id": "af3d1be2",
   "metadata": {},
   "outputs": [
    {
     "data": {
      "text/plain": [
       "bank account\n",
       "0    395\n",
       "1    295\n",
       "Name: count, dtype: int64"
      ]
     },
     "execution_count": 41,
     "metadata": {},
     "output_type": "execute_result"
    }
   ],
   "source": [
    "lb_enc2=LabelEncoder()# object creation for label encoding\n",
    "final_data['bank account']=lb_enc2.fit_transform(final_data['bank account'])# encoding is done\n",
    "final_data['bank account'].value_counts()"
   ]
  },
  {
   "cell_type": "markdown",
   "id": "ded1ff09",
   "metadata": {},
   "source": [
    "#### label encoding of feature 'other invest'"
   ]
  },
  {
   "cell_type": "code",
   "execution_count": 43,
   "id": "4e0d1344",
   "metadata": {},
   "outputs": [
    {
     "data": {
      "text/plain": [
       "other invest\n",
       "1    361\n",
       "0    329\n",
       "Name: count, dtype: int64"
      ]
     },
     "execution_count": 43,
     "metadata": {},
     "output_type": "execute_result"
    }
   ],
   "source": [
    "lb_enc3=LabelEncoder()\n",
    "final_data['other invest']=lb_enc3.fit_transform(final_data['other invest'])\n",
    "final_data['other invest'].value_counts()"
   ]
  },
  {
   "cell_type": "markdown",
   "id": "50960ead",
   "metadata": {},
   "source": [
    "#### log transformation of feature \"mean time with employer\""
   ]
  },
  {
   "cell_type": "code",
   "execution_count": 44,
   "id": "fb2cbaae",
   "metadata": {},
   "outputs": [
    {
     "data": {
      "text/plain": [
       "<Axes: ylabel='mean time with employer'>"
      ]
     },
     "execution_count": 44,
     "metadata": {},
     "output_type": "execute_result"
    },
    {
     "data": {
      "image/png": "[encoded data removed]",
      "text/plain": [
       "<Figure size 640x480 with 1 Axes>"
      ]
     },
     "metadata": {},
     "output_type": "display_data"
    }
   ],
   "source": [
    "mtwe_log=np.log(final_data[\"mean time with employer\"].add(1))# log transformation by adding one to avoid log(0) problem\n",
    "sns.boxplot(mtwe_log) # effect of large no. of outliers is solved."
   ]
  },
  {
   "cell_type": "code",
   "execution_count": 93,
   "id": "542272db",
   "metadata": {},
   "outputs": [
    {
     "data": {
      "text/plain": [
       "<Axes: xlabel='mean time with employer', ylabel='Density'>"
      ]
     },
     "execution_count": 93,
     "metadata": {},
     "output_type": "execute_result"
    },
    {
     "data": {
      "image/png": "[encoded data removed]",
      "text/plain": [
       "<Figure size 640x480 with 1 Axes>"
      ]
     },
     "metadata": {},
     "output_type": "display_data"
    }
   ],
   "source": [
    "sns.kdeplot(mtwe_log) # distribution is slightly right skewed without any peak."
   ]
  },
  {
   "cell_type": "markdown",
   "id": "90991d43",
   "metadata": {},
   "source": [
    "#### Imputation of feature \"current job status\""
   ]
  },
  {
   "cell_type": "code",
   "execution_count": 46,
   "id": "b0ad828c",
   "metadata": {},
   "outputs": [
    {
     "data": {
      "text/plain": [
       "current job status\n",
       "v     408\n",
       "h     138\n",
       "bb     59\n",
       "ff     57\n",
       "j       8\n",
       "z       8\n",
       "dd      6\n",
       "n       4\n",
       "o       2\n",
       "Name: count, dtype: int64"
      ]
     },
     "execution_count": 46,
     "metadata": {},
     "output_type": "execute_result"
    }
   ],
   "source": [
    "final_data['current job status'].value_counts()\n",
    "# use imputation value as value for maximum count. For 'v' the count is 399 and it will be used for imputation purpose.\n",
    "cjs_filled=final_data['current job status'].fillna(\"v\")\n",
    "cjs_filled.value_counts() # values are imputed. "
   ]
  },
  {
   "cell_type": "markdown",
   "id": "e5d7819d",
   "metadata": {},
   "source": [
    "#### one hot encoding of feature \"current job status\""
   ]
  },
  {
   "cell_type": "code",
   "execution_count": 47,
   "id": "988bb846",
   "metadata": {},
   "outputs": [
    {
     "data": {
      "text/plain": [
       "array(['v', 'h', 'bb', 'ff', 'j', 'z', 'o', 'dd', 'n'], dtype=object)"
      ]
     },
     "execution_count": 47,
     "metadata": {},
     "output_type": "execute_result"
    }
   ],
   "source": [
    "cjs_filled2=pd.DataFrame(cjs_filled)# as we need to pass dataframe as an argument in OneHotEncoder. \n",
    "# The dataframe named \"cjs_filled2\" is prepared from the series \"cjs_filled\"\n",
    "cjs_filled2['current job status'].unique()# cjs_filled2 is a dataframe with only one column. \n",
    "# to get the unique values of that single column we have to input the name of that column though we have a single column."
   ]
  },
  {
   "cell_type": "code",
   "execution_count": 48,
   "id": "22e25d53",
   "metadata": {},
   "outputs": [],
   "source": [
    "one_enc1=OneHotEncoder()# object is created for OneHotEncoder\n",
    "cjs_enc=one_enc1.fit_transform(cjs_filled2).toarray()#one hot encoding is done \n",
    "cjs_enc_df=pd.DataFrame(cjs_enc,columns=cjs_filled2['current job status'].unique()) # Dataframe of encoded data is created.\n"
   ]
  },
  {
   "cell_type": "markdown",
   "id": "8bdab46f",
   "metadata": {},
   "source": [
    "#### Imputation of feature \"current occupation\""
   ]
  },
  {
   "cell_type": "code",
   "execution_count": 49,
   "id": "4deb7e31",
   "metadata": {},
   "outputs": [
    {
     "data": {
      "text/plain": [
       "current occupation\n",
       "c     146\n",
       "q      78\n",
       "w      64\n",
       "i      59\n",
       "aa     54\n",
       "ff     53\n",
       "k      51\n",
       "cc     41\n",
       "m      38\n",
       "x      38\n",
       "d      30\n",
       "e      25\n",
       "j      10\n",
       "r       3\n",
       "Name: count, dtype: int64"
      ]
     },
     "execution_count": 49,
     "metadata": {},
     "output_type": "execute_result"
    }
   ],
   "source": [
    "final_data['current occupation'].value_counts()\n",
    "# maximum count is for category named \"c\". So use that value for imputation. \n",
    "# before imputation the count is 137. After imputation it should be 146.\n",
    "co_filled=final_data['current occupation'].fillna(\"c\")\n",
    "co_filled.value_counts()"
   ]
  },
  {
   "cell_type": "markdown",
   "id": "9a99ccc1",
   "metadata": {},
   "source": [
    "#### one hot encoding of feature 'current occupation'"
   ]
  },
  {
   "cell_type": "code",
   "execution_count": 50,
   "id": "141f2f9d",
   "metadata": {},
   "outputs": [],
   "source": [
    "one_enc2=OneHotEncoder()\n",
    "# co_enc=one_enc2.fit_transform(co_filled).toarray()# this code does not work. Need to pass datafrmae for one hot encoding.\n",
    "co_filled_df=pd.DataFrame(co_filled)# dataframe created\n",
    "co_enc=one_enc2.fit_transform(co_filled_df)# the matrix is created. stored in compressed sparse row format\n",
    "co_enc1=co_enc.toarray()# converted to an array \n",
    "co_enc_df=pd.DataFrame(co_enc1,columns=co_filled_df['current occupation'].unique()) # Dataframe of encoded array"
   ]
  },
  {
   "cell_type": "markdown",
   "id": "87ec52b8",
   "metadata": {},
   "source": [
    "#### Imputation of feature \"marital status\""
   ]
  },
  {
   "cell_type": "code",
   "execution_count": 52,
   "id": "44eb516e",
   "metadata": {
    "scrolled": false
   },
   "outputs": [
    {
     "data": {
      "text/html": [
       "<div>\n",
       "<style scoped>\n",
       "    .dataframe tbody tr th:only-of-type {\n",
       "        vertical-align: middle;\n",
       "    }\n",
       "\n",
       "    .dataframe tbody tr th {\n",
       "        vertical-align: top;\n",
       "    }\n",
       "\n",
       "    .dataframe thead th {\n",
       "        text-align: right;\n",
       "    }\n",
       "</style>\n",
       "<table border=\"1\" class=\"dataframe\">\n",
       "  <thead>\n",
       "    <tr style=\"text-align: right;\">\n",
       "      <th></th>\n",
       "      <th>savings Acc balance</th>\n",
       "      <th>monthly hou expense</th>\n",
       "      <th>acc refe</th>\n",
       "      <th>liability ref</th>\n",
       "      <th>Time with bank</th>\n",
       "      <th>bank account</th>\n",
       "      <th>other invest</th>\n",
       "      <th>mean time with employer</th>\n",
       "      <th>current job status</th>\n",
       "      <th>current occupation</th>\n",
       "      <th>marital status</th>\n",
       "      <th>home status</th>\n",
       "      <th>mean time at add</th>\n",
       "      <th>age</th>\n",
       "      <th>gender</th>\n",
       "      <th>target</th>\n",
       "    </tr>\n",
       "  </thead>\n",
       "  <tbody>\n",
       "    <tr>\n",
       "      <th>206</th>\n",
       "      <td>0</td>\n",
       "      <td>NaN</td>\n",
       "      <td>p</td>\n",
       "      <td>0</td>\n",
       "      <td>0</td>\n",
       "      <td>0</td>\n",
       "      <td>0</td>\n",
       "      <td>0.0</td>\n",
       "      <td>NaN</td>\n",
       "      <td>NaN</td>\n",
       "      <td>NaN</td>\n",
       "      <td>NaN</td>\n",
       "      <td>0.0</td>\n",
       "      <td>71.58</td>\n",
       "      <td>0</td>\n",
       "      <td>1</td>\n",
       "    </tr>\n",
       "    <tr>\n",
       "      <th>270</th>\n",
       "      <td>0</td>\n",
       "      <td>NaN</td>\n",
       "      <td>p</td>\n",
       "      <td>0</td>\n",
       "      <td>0</td>\n",
       "      <td>0</td>\n",
       "      <td>0</td>\n",
       "      <td>0.0</td>\n",
       "      <td>NaN</td>\n",
       "      <td>NaN</td>\n",
       "      <td>NaN</td>\n",
       "      <td>NaN</td>\n",
       "      <td>0.0</td>\n",
       "      <td>37.58</td>\n",
       "      <td>1</td>\n",
       "      <td>1</td>\n",
       "    </tr>\n",
       "    <tr>\n",
       "      <th>330</th>\n",
       "      <td>0</td>\n",
       "      <td>NaN</td>\n",
       "      <td>p</td>\n",
       "      <td>0</td>\n",
       "      <td>0</td>\n",
       "      <td>0</td>\n",
       "      <td>0</td>\n",
       "      <td>0.0</td>\n",
       "      <td>NaN</td>\n",
       "      <td>NaN</td>\n",
       "      <td>NaN</td>\n",
       "      <td>NaN</td>\n",
       "      <td>0.0</td>\n",
       "      <td>20.42</td>\n",
       "      <td>1</td>\n",
       "      <td>0</td>\n",
       "    </tr>\n",
       "    <tr>\n",
       "      <th>456</th>\n",
       "      <td>0</td>\n",
       "      <td>NaN</td>\n",
       "      <td>p</td>\n",
       "      <td>0</td>\n",
       "      <td>0</td>\n",
       "      <td>0</td>\n",
       "      <td>0</td>\n",
       "      <td>0.0</td>\n",
       "      <td>NaN</td>\n",
       "      <td>NaN</td>\n",
       "      <td>NaN</td>\n",
       "      <td>NaN</td>\n",
       "      <td>0.0</td>\n",
       "      <td>34.58</td>\n",
       "      <td>1</td>\n",
       "      <td>0</td>\n",
       "    </tr>\n",
       "    <tr>\n",
       "      <th>592</th>\n",
       "      <td>0</td>\n",
       "      <td>NaN</td>\n",
       "      <td>p</td>\n",
       "      <td>0</td>\n",
       "      <td>0</td>\n",
       "      <td>0</td>\n",
       "      <td>0</td>\n",
       "      <td>0.0</td>\n",
       "      <td>NaN</td>\n",
       "      <td>NaN</td>\n",
       "      <td>NaN</td>\n",
       "      <td>NaN</td>\n",
       "      <td>0.0</td>\n",
       "      <td>23.17</td>\n",
       "      <td>1</td>\n",
       "      <td>1</td>\n",
       "    </tr>\n",
       "    <tr>\n",
       "      <th>622</th>\n",
       "      <td>0</td>\n",
       "      <td>NaN</td>\n",
       "      <td>p</td>\n",
       "      <td>0</td>\n",
       "      <td>0</td>\n",
       "      <td>0</td>\n",
       "      <td>0</td>\n",
       "      <td>0.0</td>\n",
       "      <td>NaN</td>\n",
       "      <td>NaN</td>\n",
       "      <td>NaN</td>\n",
       "      <td>NaN</td>\n",
       "      <td>0.0</td>\n",
       "      <td>25.58</td>\n",
       "      <td>0</td>\n",
       "      <td>1</td>\n",
       "    </tr>\n",
       "  </tbody>\n",
       "</table>\n",
       "</div>"
      ],
      "text/plain": [
       "     savings Acc balance  monthly hou expense acc refe  liability ref  \\\n",
       "206                    0                  NaN        p              0   \n",
       "270                    0                  NaN        p              0   \n",
       "330                    0                  NaN        p              0   \n",
       "456                    0                  NaN        p              0   \n",
       "592                    0                  NaN        p              0   \n",
       "622                    0                  NaN        p              0   \n",
       "\n",
       "     Time with bank  bank account  other invest  mean time with employer  \\\n",
       "206               0             0             0                      0.0   \n",
       "270               0             0             0                      0.0   \n",
       "330               0             0             0                      0.0   \n",
       "456               0             0             0                      0.0   \n",
       "592               0             0             0                      0.0   \n",
       "622               0             0             0                      0.0   \n",
       "\n",
       "    current job status current occupation marital status home status  \\\n",
       "206                NaN                NaN            NaN         NaN   \n",
       "270                NaN                NaN            NaN         NaN   \n",
       "330                NaN                NaN            NaN         NaN   \n",
       "456                NaN                NaN            NaN         NaN   \n",
       "592                NaN                NaN            NaN         NaN   \n",
       "622                NaN                NaN            NaN         NaN   \n",
       "\n",
       "     mean time at add    age  gender  target  \n",
       "206               0.0  71.58       0       1  \n",
       "270               0.0  37.58       1       1  \n",
       "330               0.0  20.42       1       0  \n",
       "456               0.0  34.58       1       0  \n",
       "592               0.0  23.17       1       1  \n",
       "622               0.0  25.58       0       1  "
      ]
     },
     "execution_count": 52,
     "metadata": {},
     "output_type": "execute_result"
    }
   ],
   "source": [
    "arr=np.where(final_data['marital status'].isna())# array of index number of records which have missing value for 'marital status'\n",
    "df=final_data.iloc[arr[0]]# the indices are passed to fetch the records and make dataframe from them\n",
    "# np.where gives the tuple of array. To get the records from array of index we have to pass the index of tuple i.e. '0' to \n",
    "# get the array\n",
    "df\n"
   ]
  },
  {
   "cell_type": "markdown",
   "id": "2fbc24eb",
   "metadata": {},
   "source": [
    "- For record number 330 and 592 we impute value as 'p', the reason is the age is less they might not get married.\n",
    "- For other recoreds 206, 270, 456, 622 we impute value as 'g', the reason the age is such that they might get married."
   ]
  },
  {
   "cell_type": "code",
   "execution_count": 53,
   "id": "32516dfd",
   "metadata": {
    "scrolled": true
   },
   "outputs": [
    {
     "data": {
      "text/html": [
       "<div>\n",
       "<style scoped>\n",
       "    .dataframe tbody tr th:only-of-type {\n",
       "        vertical-align: middle;\n",
       "    }\n",
       "\n",
       "    .dataframe tbody tr th {\n",
       "        vertical-align: top;\n",
       "    }\n",
       "\n",
       "    .dataframe thead th {\n",
       "        text-align: right;\n",
       "    }\n",
       "</style>\n",
       "<table border=\"1\" class=\"dataframe\">\n",
       "  <thead>\n",
       "    <tr style=\"text-align: right;\">\n",
       "      <th></th>\n",
       "      <th>savings Acc balance</th>\n",
       "      <th>monthly hou expense</th>\n",
       "      <th>acc refe</th>\n",
       "      <th>liability ref</th>\n",
       "      <th>Time with bank</th>\n",
       "      <th>bank account</th>\n",
       "      <th>other invest</th>\n",
       "      <th>mean time with employer</th>\n",
       "      <th>current job status</th>\n",
       "      <th>current occupation</th>\n",
       "      <th>marital status</th>\n",
       "      <th>home status</th>\n",
       "      <th>mean time at add</th>\n",
       "      <th>age</th>\n",
       "      <th>gender</th>\n",
       "      <th>target</th>\n",
       "    </tr>\n",
       "  </thead>\n",
       "  <tbody>\n",
       "    <tr>\n",
       "      <th>330</th>\n",
       "      <td>0</td>\n",
       "      <td>NaN</td>\n",
       "      <td>p</td>\n",
       "      <td>0</td>\n",
       "      <td>0</td>\n",
       "      <td>0</td>\n",
       "      <td>0</td>\n",
       "      <td>0.0</td>\n",
       "      <td>NaN</td>\n",
       "      <td>NaN</td>\n",
       "      <td>p</td>\n",
       "      <td>NaN</td>\n",
       "      <td>0.0</td>\n",
       "      <td>20.42</td>\n",
       "      <td>1</td>\n",
       "      <td>0</td>\n",
       "    </tr>\n",
       "    <tr>\n",
       "      <th>592</th>\n",
       "      <td>0</td>\n",
       "      <td>NaN</td>\n",
       "      <td>p</td>\n",
       "      <td>0</td>\n",
       "      <td>0</td>\n",
       "      <td>0</td>\n",
       "      <td>0</td>\n",
       "      <td>0.0</td>\n",
       "      <td>NaN</td>\n",
       "      <td>NaN</td>\n",
       "      <td>p</td>\n",
       "      <td>NaN</td>\n",
       "      <td>0.0</td>\n",
       "      <td>23.17</td>\n",
       "      <td>1</td>\n",
       "      <td>1</td>\n",
       "    </tr>\n",
       "  </tbody>\n",
       "</table>\n",
       "</div>"
      ],
      "text/plain": [
       "     savings Acc balance  monthly hou expense acc refe  liability ref  \\\n",
       "330                    0                  NaN        p              0   \n",
       "592                    0                  NaN        p              0   \n",
       "\n",
       "     Time with bank  bank account  other invest  mean time with employer  \\\n",
       "330               0             0             0                      0.0   \n",
       "592               0             0             0                      0.0   \n",
       "\n",
       "    current job status current occupation marital status home status  \\\n",
       "330                NaN                NaN              p         NaN   \n",
       "592                NaN                NaN              p         NaN   \n",
       "\n",
       "     mean time at add    age  gender  target  \n",
       "330               0.0  20.42       1       0  \n",
       "592               0.0  23.17       1       1  "
      ]
     },
     "execution_count": 53,
     "metadata": {},
     "output_type": "execute_result"
    }
   ],
   "source": [
    "final_data1=final_data.copy() # copy of dataset is made\n",
    "final_data1.loc[[330,592],'marital status']=\"p\" # list of index is passed along with feature name to access the value and \n",
    "# then by using assignment operator the value is set to 'p'\n",
    "final_data1.iloc[[330,592]] # The value is changed to 'p'\n",
    "\n"
   ]
  },
  {
   "cell_type": "code",
   "execution_count": 54,
   "id": "749af54d",
   "metadata": {},
   "outputs": [
    {
     "data": {
      "text/html": [
       "<div>\n",
       "<style scoped>\n",
       "    .dataframe tbody tr th:only-of-type {\n",
       "        vertical-align: middle;\n",
       "    }\n",
       "\n",
       "    .dataframe tbody tr th {\n",
       "        vertical-align: top;\n",
       "    }\n",
       "\n",
       "    .dataframe thead th {\n",
       "        text-align: right;\n",
       "    }\n",
       "</style>\n",
       "<table border=\"1\" class=\"dataframe\">\n",
       "  <thead>\n",
       "    <tr style=\"text-align: right;\">\n",
       "      <th></th>\n",
       "      <th>savings Acc balance</th>\n",
       "      <th>monthly hou expense</th>\n",
       "      <th>acc refe</th>\n",
       "      <th>liability ref</th>\n",
       "      <th>Time with bank</th>\n",
       "      <th>bank account</th>\n",
       "      <th>other invest</th>\n",
       "      <th>mean time with employer</th>\n",
       "      <th>current job status</th>\n",
       "      <th>current occupation</th>\n",
       "      <th>marital status</th>\n",
       "      <th>home status</th>\n",
       "      <th>mean time at add</th>\n",
       "      <th>age</th>\n",
       "      <th>gender</th>\n",
       "      <th>target</th>\n",
       "    </tr>\n",
       "  </thead>\n",
       "  <tbody>\n",
       "    <tr>\n",
       "      <th>206</th>\n",
       "      <td>0</td>\n",
       "      <td>NaN</td>\n",
       "      <td>p</td>\n",
       "      <td>0</td>\n",
       "      <td>0</td>\n",
       "      <td>0</td>\n",
       "      <td>0</td>\n",
       "      <td>0.0</td>\n",
       "      <td>NaN</td>\n",
       "      <td>NaN</td>\n",
       "      <td>g</td>\n",
       "      <td>NaN</td>\n",
       "      <td>0.0</td>\n",
       "      <td>71.58</td>\n",
       "      <td>0</td>\n",
       "      <td>1</td>\n",
       "    </tr>\n",
       "    <tr>\n",
       "      <th>270</th>\n",
       "      <td>0</td>\n",
       "      <td>NaN</td>\n",
       "      <td>p</td>\n",
       "      <td>0</td>\n",
       "      <td>0</td>\n",
       "      <td>0</td>\n",
       "      <td>0</td>\n",
       "      <td>0.0</td>\n",
       "      <td>NaN</td>\n",
       "      <td>NaN</td>\n",
       "      <td>g</td>\n",
       "      <td>NaN</td>\n",
       "      <td>0.0</td>\n",
       "      <td>37.58</td>\n",
       "      <td>1</td>\n",
       "      <td>1</td>\n",
       "    </tr>\n",
       "    <tr>\n",
       "      <th>456</th>\n",
       "      <td>0</td>\n",
       "      <td>NaN</td>\n",
       "      <td>p</td>\n",
       "      <td>0</td>\n",
       "      <td>0</td>\n",
       "      <td>0</td>\n",
       "      <td>0</td>\n",
       "      <td>0.0</td>\n",
       "      <td>NaN</td>\n",
       "      <td>NaN</td>\n",
       "      <td>g</td>\n",
       "      <td>NaN</td>\n",
       "      <td>0.0</td>\n",
       "      <td>34.58</td>\n",
       "      <td>1</td>\n",
       "      <td>0</td>\n",
       "    </tr>\n",
       "    <tr>\n",
       "      <th>622</th>\n",
       "      <td>0</td>\n",
       "      <td>NaN</td>\n",
       "      <td>p</td>\n",
       "      <td>0</td>\n",
       "      <td>0</td>\n",
       "      <td>0</td>\n",
       "      <td>0</td>\n",
       "      <td>0.0</td>\n",
       "      <td>NaN</td>\n",
       "      <td>NaN</td>\n",
       "      <td>g</td>\n",
       "      <td>NaN</td>\n",
       "      <td>0.0</td>\n",
       "      <td>25.58</td>\n",
       "      <td>0</td>\n",
       "      <td>1</td>\n",
       "    </tr>\n",
       "  </tbody>\n",
       "</table>\n",
       "</div>"
      ],
      "text/plain": [
       "     savings Acc balance  monthly hou expense acc refe  liability ref  \\\n",
       "206                    0                  NaN        p              0   \n",
       "270                    0                  NaN        p              0   \n",
       "456                    0                  NaN        p              0   \n",
       "622                    0                  NaN        p              0   \n",
       "\n",
       "     Time with bank  bank account  other invest  mean time with employer  \\\n",
       "206               0             0             0                      0.0   \n",
       "270               0             0             0                      0.0   \n",
       "456               0             0             0                      0.0   \n",
       "622               0             0             0                      0.0   \n",
       "\n",
       "    current job status current occupation marital status home status  \\\n",
       "206                NaN                NaN              g         NaN   \n",
       "270                NaN                NaN              g         NaN   \n",
       "456                NaN                NaN              g         NaN   \n",
       "622                NaN                NaN              g         NaN   \n",
       "\n",
       "     mean time at add    age  gender  target  \n",
       "206               0.0  71.58       0       1  \n",
       "270               0.0  37.58       1       1  \n",
       "456               0.0  34.58       1       0  \n",
       "622               0.0  25.58       0       1  "
      ]
     },
     "execution_count": 54,
     "metadata": {},
     "output_type": "execute_result"
    }
   ],
   "source": [
    "final_data1.loc[[206, 270, 456, 622],'marital status']='g'\n",
    "final_data1.iloc[[206, 270, 456, 622]]"
   ]
  },
  {
   "cell_type": "markdown",
   "id": "d394c14e",
   "metadata": {},
   "source": [
    "#### label encoding of feature 'marital status'"
   ]
  },
  {
   "cell_type": "code",
   "execution_count": 200,
   "id": "3a7bea7d",
   "metadata": {},
   "outputs": [],
   "source": [
    "final_data2=final_data1.copy() # copy of final data1 is made for reference purpose as some values are changed from original dataset"
   ]
  },
  {
   "cell_type": "code",
   "execution_count": 58,
   "id": "458ce297",
   "metadata": {},
   "outputs": [
    {
     "data": {
      "text/plain": [
       "marital status\n",
       "0    523\n",
       "2    165\n",
       "1      2\n",
       "Name: count, dtype: int64"
      ]
     },
     "execution_count": 58,
     "metadata": {},
     "output_type": "execute_result"
    }
   ],
   "source": [
    "lb_enc5=LabelEncoder()\n",
    "final_data1['marital status']=lb_enc5.fit_transform(final_data1['marital status'])\n",
    "final_data1['marital status'].value_counts()\n"
   ]
  },
  {
   "cell_type": "markdown",
   "id": "1b7fe44a",
   "metadata": {},
   "source": [
    "#### imputation of feature 'home status'"
   ]
  },
  {
   "cell_type": "code",
   "execution_count": 59,
   "id": "382c7d09",
   "metadata": {},
   "outputs": [
    {
     "data": {
      "text/plain": [
       "home status\n",
       "u    525\n",
       "y    163\n",
       "l      2\n",
       "Name: count, dtype: int64"
      ]
     },
     "execution_count": 59,
     "metadata": {},
     "output_type": "execute_result"
    }
   ],
   "source": [
    "final_data['home status'].value_counts() # imputation with category with maximum count\n",
    "final_data1['home status'].fillna(\"u\",inplace=True)\n",
    "final_data1['home status'].value_counts()"
   ]
  },
  {
   "cell_type": "markdown",
   "id": "5d8178d9",
   "metadata": {},
   "source": [
    "#### one hot encoding of feature 'home status'"
   ]
  },
  {
   "cell_type": "code",
   "execution_count": 60,
   "id": "acd2fc66",
   "metadata": {},
   "outputs": [],
   "source": [
    "# different approach is used here. Instead of creating dataframe from column. It is passed with two square bracket for encoding\n",
    "one_enc3=OneHotEncoder() \n",
    "arr2=one_enc3.fit_transform(final_data1[['home status']]).toarray()# column is passed with a square bracket.\n",
    "hs_enc=pd.DataFrame(arr2,columns=final_data1['home status'].unique())\n"
   ]
  },
  {
   "cell_type": "markdown",
   "id": "cafcf159",
   "metadata": {},
   "source": [
    "#### Log transformation of feature \"mean time at add\""
   ]
  },
  {
   "cell_type": "code",
   "execution_count": 61,
   "id": "ce0eee10",
   "metadata": {},
   "outputs": [
    {
     "data": {
      "text/plain": [
       "<Axes: xlabel='mean time at add', ylabel='Density'>"
      ]
     },
     "execution_count": 61,
     "metadata": {},
     "output_type": "execute_result"
    },
    {
     "data": {
      "image/png": "[encoded data removed]",
      "text/plain": [
       "<Figure size 640x480 with 1 Axes>"
      ]
     },
     "metadata": {},
     "output_type": "display_data"
    }
   ],
   "source": [
    "mta_log=np.log(final_data['mean time at add'].add(1))\n",
    "sns.kdeplot(mta_log)"
   ]
  },
  {
   "cell_type": "code",
   "execution_count": 216,
   "id": "a842cb3e",
   "metadata": {},
   "outputs": [
    {
     "data": {
      "text/plain": [
       "<Axes: ylabel='mean time at add'>"
      ]
     },
     "execution_count": 216,
     "metadata": {},
     "output_type": "execute_result"
    },
    {
     "data": {
      "image/png": "[encoded data removed]",
      "text/plain": [
       "<Figure size 640x480 with 1 Axes>"
      ]
     },
     "metadata": {},
     "output_type": "display_data"
    }
   ],
   "source": [
    "sns.boxplot(mta_log)"
   ]
  },
  {
   "cell_type": "markdown",
   "id": "9a49b90c",
   "metadata": {},
   "source": [
    "#### imputation of feature 'age'"
   ]
  },
  {
   "cell_type": "code",
   "execution_count": 62,
   "id": "e47c4e79",
   "metadata": {},
   "outputs": [
    {
     "name": "stdout",
     "output_type": "stream",
     "text": [
      "<class 'pandas.core.series.Series'>\n",
      "RangeIndex: 690 entries, 0 to 689\n",
      "Series name: age\n",
      "Non-Null Count  Dtype  \n",
      "--------------  -----  \n",
      "690 non-null    float64\n",
      "dtypes: float64(1)\n",
      "memory usage: 5.5 KB\n"
     ]
    }
   ],
   "source": [
    "# mean value is used for imputation\n",
    "mean=np.around(final_data['age'].mean(),decimals=2)\n",
    "final_data['age'].fillna(mean,inplace=True)\n",
    "final_data['age'].info()"
   ]
  },
  {
   "cell_type": "markdown",
   "id": "19a3bf44",
   "metadata": {},
   "source": [
    "#### log transformation of feature \"age\""
   ]
  },
  {
   "cell_type": "code",
   "execution_count": 63,
   "id": "64b3a89f",
   "metadata": {
    "scrolled": true
   },
   "outputs": [
    {
     "data": {
      "text/plain": [
       "<Axes: xlabel='age', ylabel='Density'>"
      ]
     },
     "execution_count": 63,
     "metadata": {},
     "output_type": "execute_result"
    },
    {
     "data": {
      "image/png": "[encoded data removed]",
      "text/plain": [
       "<Figure size 640x480 with 1 Axes>"
      ]
     },
     "metadata": {},
     "output_type": "display_data"
    }
   ],
   "source": [
    "age_log=np.log(final_data['age'])# log transformation of the column\n",
    "sns.kdeplot(age_log)"
   ]
  },
  {
   "cell_type": "code",
   "execution_count": 228,
   "id": "5aef1d95",
   "metadata": {
    "scrolled": true
   },
   "outputs": [
    {
     "data": {
      "text/plain": [
       "<Axes: ylabel='age'>"
      ]
     },
     "execution_count": 228,
     "metadata": {},
     "output_type": "execute_result"
    },
    {
     "data": {
      "image/png": "[encoded data removed]",
      "text/plain": [
       "<Figure size 640x480 with 1 Axes>"
      ]
     },
     "metadata": {},
     "output_type": "display_data"
    }
   ],
   "source": [
    "sns.boxplot(age_log)"
   ]
  },
  {
   "cell_type": "markdown",
   "id": "29aa8aa1",
   "metadata": {},
   "source": [
    "#### label encoding of feature \"gender\""
   ]
  },
  {
   "cell_type": "code",
   "execution_count": 64,
   "id": "eda71924",
   "metadata": {
    "scrolled": true
   },
   "outputs": [
    {
     "data": {
      "text/html": [
       "<div>\n",
       "<style scoped>\n",
       "    .dataframe tbody tr th:only-of-type {\n",
       "        vertical-align: middle;\n",
       "    }\n",
       "\n",
       "    .dataframe tbody tr th {\n",
       "        vertical-align: top;\n",
       "    }\n",
       "\n",
       "    .dataframe thead th {\n",
       "        text-align: right;\n",
       "    }\n",
       "</style>\n",
       "<table border=\"1\" class=\"dataframe\">\n",
       "  <thead>\n",
       "    <tr style=\"text-align: right;\">\n",
       "      <th></th>\n",
       "      <th>savings Acc balance</th>\n",
       "      <th>monthly hou expense</th>\n",
       "      <th>acc refe</th>\n",
       "      <th>liability ref</th>\n",
       "      <th>Time with bank</th>\n",
       "      <th>bank account</th>\n",
       "      <th>other invest</th>\n",
       "      <th>mean time with employer</th>\n",
       "      <th>current job status</th>\n",
       "      <th>current occupation</th>\n",
       "      <th>marital status</th>\n",
       "      <th>home status</th>\n",
       "      <th>mean time at add</th>\n",
       "      <th>age</th>\n",
       "      <th>gender</th>\n",
       "      <th>target</th>\n",
       "    </tr>\n",
       "  </thead>\n",
       "  <tbody>\n",
       "  </tbody>\n",
       "</table>\n",
       "</div>"
      ],
      "text/plain": [
       "Empty DataFrame\n",
       "Columns: [savings Acc balance, monthly hou expense, acc refe, liability ref, Time with bank, bank account, other invest, mean time with employer, current job status, current occupation, marital status, home status, mean time at add, age, gender, target]\n",
       "Index: []"
      ]
     },
     "execution_count": 64,
     "metadata": {},
     "output_type": "execute_result"
    }
   ],
   "source": [
    "final_data['gender'].unique()\n",
    "arr_n=np.where(final_data['gender'].isna()) # array of index with nan values\n",
    "final_data.iloc[arr_n[0]]# Displaying data of nan values for gender column"
   ]
  },
  {
   "cell_type": "code",
   "execution_count": 65,
   "id": "451adb77",
   "metadata": {},
   "outputs": [
    {
     "data": {
      "text/plain": [
       "gender\n",
       "1    480\n",
       "0    210\n",
       "Name: count, dtype: int64"
      ]
     },
     "execution_count": 65,
     "metadata": {},
     "output_type": "execute_result"
    }
   ],
   "source": [
    "final_data['gender'].value_counts()# the category 'b' is with maximum count. Use this for imputation"
   ]
  },
  {
   "cell_type": "code",
   "execution_count": 15,
   "id": "8712087d",
   "metadata": {},
   "outputs": [
    {
     "data": {
      "text/plain": [
       "gender\n",
       "b    480\n",
       "a    210\n",
       "Name: count, dtype: int64"
      ]
     },
     "execution_count": 15,
     "metadata": {},
     "output_type": "execute_result"
    }
   ],
   "source": [
    "final_data['gender'].fillna('b',inplace=True)# IMputation is done and updated in original dataframe. \n",
    "final_data['gender'].value_counts()"
   ]
  },
  {
   "cell_type": "markdown",
   "id": "c4baaea5",
   "metadata": {},
   "source": [
    "#### Label encoding of featue \"gender\""
   ]
  },
  {
   "cell_type": "code",
   "execution_count": 66,
   "id": "60b35fcd",
   "metadata": {},
   "outputs": [],
   "source": [
    "# different method is used for label encoding instead of use of function LabelEncoder\n",
    "re={\"b\":1,\"a\":0} # dictionary prepared for replacing the values with 1 and o\n",
    "final_data['gender'].replace(re,inplace=True)\n"
   ]
  },
  {
   "cell_type": "markdown",
   "id": "1677d8a9",
   "metadata": {},
   "source": [
    "#### Label encoding of Target column"
   ]
  },
  {
   "cell_type": "code",
   "execution_count": 67,
   "id": "245be0c0",
   "metadata": {},
   "outputs": [
    {
     "data": {
      "text/html": [
       "<div>\n",
       "<style scoped>\n",
       "    .dataframe tbody tr th:only-of-type {\n",
       "        vertical-align: middle;\n",
       "    }\n",
       "\n",
       "    .dataframe tbody tr th {\n",
       "        vertical-align: top;\n",
       "    }\n",
       "\n",
       "    .dataframe thead th {\n",
       "        text-align: right;\n",
       "    }\n",
       "</style>\n",
       "<table border=\"1\" class=\"dataframe\">\n",
       "  <thead>\n",
       "    <tr style=\"text-align: right;\">\n",
       "      <th></th>\n",
       "      <th>savings Acc balance</th>\n",
       "      <th>monthly hou expense</th>\n",
       "      <th>acc refe</th>\n",
       "      <th>liability ref</th>\n",
       "      <th>Time with bank</th>\n",
       "      <th>bank account</th>\n",
       "      <th>other invest</th>\n",
       "      <th>mean time with employer</th>\n",
       "      <th>current job status</th>\n",
       "      <th>current occupation</th>\n",
       "      <th>marital status</th>\n",
       "      <th>home status</th>\n",
       "      <th>mean time at add</th>\n",
       "      <th>age</th>\n",
       "      <th>gender</th>\n",
       "      <th>target</th>\n",
       "    </tr>\n",
       "  </thead>\n",
       "  <tbody>\n",
       "    <tr>\n",
       "      <th>0</th>\n",
       "      <td>0</td>\n",
       "      <td>202.0</td>\n",
       "      <td>g</td>\n",
       "      <td>0</td>\n",
       "      <td>1</td>\n",
       "      <td>1</td>\n",
       "      <td>1</td>\n",
       "      <td>1.25</td>\n",
       "      <td>v</td>\n",
       "      <td>w</td>\n",
       "      <td>g</td>\n",
       "      <td>u</td>\n",
       "      <td>0.000</td>\n",
       "      <td>30.83</td>\n",
       "      <td>1</td>\n",
       "      <td>1</td>\n",
       "    </tr>\n",
       "    <tr>\n",
       "      <th>1</th>\n",
       "      <td>560</td>\n",
       "      <td>43.0</td>\n",
       "      <td>g</td>\n",
       "      <td>0</td>\n",
       "      <td>6</td>\n",
       "      <td>1</td>\n",
       "      <td>1</td>\n",
       "      <td>3.04</td>\n",
       "      <td>h</td>\n",
       "      <td>q</td>\n",
       "      <td>g</td>\n",
       "      <td>u</td>\n",
       "      <td>4.460</td>\n",
       "      <td>58.67</td>\n",
       "      <td>0</td>\n",
       "      <td>1</td>\n",
       "    </tr>\n",
       "    <tr>\n",
       "      <th>2</th>\n",
       "      <td>824</td>\n",
       "      <td>280.0</td>\n",
       "      <td>g</td>\n",
       "      <td>0</td>\n",
       "      <td>0</td>\n",
       "      <td>0</td>\n",
       "      <td>1</td>\n",
       "      <td>1.50</td>\n",
       "      <td>h</td>\n",
       "      <td>q</td>\n",
       "      <td>g</td>\n",
       "      <td>u</td>\n",
       "      <td>0.500</td>\n",
       "      <td>24.50</td>\n",
       "      <td>0</td>\n",
       "      <td>1</td>\n",
       "    </tr>\n",
       "    <tr>\n",
       "      <th>3</th>\n",
       "      <td>3</td>\n",
       "      <td>100.0</td>\n",
       "      <td>g</td>\n",
       "      <td>1</td>\n",
       "      <td>5</td>\n",
       "      <td>1</td>\n",
       "      <td>1</td>\n",
       "      <td>3.75</td>\n",
       "      <td>v</td>\n",
       "      <td>w</td>\n",
       "      <td>g</td>\n",
       "      <td>u</td>\n",
       "      <td>1.540</td>\n",
       "      <td>27.83</td>\n",
       "      <td>1</td>\n",
       "      <td>1</td>\n",
       "    </tr>\n",
       "    <tr>\n",
       "      <th>4</th>\n",
       "      <td>0</td>\n",
       "      <td>120.0</td>\n",
       "      <td>s</td>\n",
       "      <td>0</td>\n",
       "      <td>0</td>\n",
       "      <td>0</td>\n",
       "      <td>1</td>\n",
       "      <td>1.71</td>\n",
       "      <td>v</td>\n",
       "      <td>w</td>\n",
       "      <td>g</td>\n",
       "      <td>u</td>\n",
       "      <td>5.625</td>\n",
       "      <td>20.17</td>\n",
       "      <td>1</td>\n",
       "      <td>1</td>\n",
       "    </tr>\n",
       "  </tbody>\n",
       "</table>\n",
       "</div>"
      ],
      "text/plain": [
       "   savings Acc balance  monthly hou expense acc refe  liability ref  \\\n",
       "0                    0                202.0        g              0   \n",
       "1                  560                 43.0        g              0   \n",
       "2                  824                280.0        g              0   \n",
       "3                    3                100.0        g              1   \n",
       "4                    0                120.0        s              0   \n",
       "\n",
       "   Time with bank  bank account  other invest  mean time with employer  \\\n",
       "0               1             1             1                     1.25   \n",
       "1               6             1             1                     3.04   \n",
       "2               0             0             1                     1.50   \n",
       "3               5             1             1                     3.75   \n",
       "4               0             0             1                     1.71   \n",
       "\n",
       "  current job status current occupation marital status home status  \\\n",
       "0                  v                  w              g           u   \n",
       "1                  h                  q              g           u   \n",
       "2                  h                  q              g           u   \n",
       "3                  v                  w              g           u   \n",
       "4                  v                  w              g           u   \n",
       "\n",
       "   mean time at add    age  gender  target  \n",
       "0             0.000  30.83       1       1  \n",
       "1             4.460  58.67       0       1  \n",
       "2             0.500  24.50       0       1  \n",
       "3             1.540  27.83       1       1  \n",
       "4             5.625  20.17       1       1  "
      ]
     },
     "execution_count": 67,
     "metadata": {},
     "output_type": "execute_result"
    }
   ],
   "source": [
    "dic={'+':1,'-':0}\n",
    "final_data['target'].value_counts()\n",
    "final_data['target'].replace(dic,inplace=True)\n",
    "final_data.head()"
   ]
  },
  {
   "cell_type": "markdown",
   "id": "24b29fc5",
   "metadata": {},
   "source": [
    "#### Joining of encoded and transformed column to get out final dataframe"
   ]
  },
  {
   "cell_type": "code",
   "execution_count": 68,
   "id": "2c21edf5",
   "metadata": {},
   "outputs": [],
   "source": [
    "# A final datafram is created from log transformed and encoded dataset.\n",
    "cr_ap=pd.concat([final_data_log,expense_log,acc_enc_fr,final_data['liability ref'],twb_log,final_data['bank account'],final_data['other invest'],\n",
    "             mtwe_log,cjs_enc_df,co_enc_df,final_data1['marital status'],hs_enc,mta_log,age_log,final_data['gender'],final_data['target'] ],axis=1)"
   ]
  },
  {
   "cell_type": "code",
   "execution_count": 72,
   "id": "9a88c0a5",
   "metadata": {},
   "outputs": [],
   "source": [
    "pd.options.display.max_rows=None\n",
    "pd.options.display.max_columns=None"
   ]
  },
  {
   "cell_type": "code",
   "execution_count": 73,
   "id": "6aa9dd6f",
   "metadata": {
    "scrolled": true
   },
   "outputs": [
    {
     "data": {
      "text/html": [
       "<div>\n",
       "<style scoped>\n",
       "    .dataframe tbody tr th:only-of-type {\n",
       "        vertical-align: middle;\n",
       "    }\n",
       "\n",
       "    .dataframe tbody tr th {\n",
       "        vertical-align: top;\n",
       "    }\n",
       "\n",
       "    .dataframe thead th {\n",
       "        text-align: right;\n",
       "    }\n",
       "</style>\n",
       "<table border=\"1\" class=\"dataframe\">\n",
       "  <thead>\n",
       "    <tr style=\"text-align: right;\">\n",
       "      <th></th>\n",
       "      <th>savings Acc balance</th>\n",
       "      <th>monthly hou expense</th>\n",
       "      <th>g</th>\n",
       "      <th>s</th>\n",
       "      <th>p</th>\n",
       "      <th>liability ref</th>\n",
       "      <th>Time with bank</th>\n",
       "      <th>bank account</th>\n",
       "      <th>other invest</th>\n",
       "      <th>mean time with employer</th>\n",
       "      <th>v</th>\n",
       "      <th>h</th>\n",
       "      <th>bb</th>\n",
       "      <th>ff</th>\n",
       "      <th>j</th>\n",
       "      <th>z</th>\n",
       "      <th>o</th>\n",
       "      <th>dd</th>\n",
       "      <th>n</th>\n",
       "      <th>w</th>\n",
       "      <th>q</th>\n",
       "      <th>m</th>\n",
       "      <th>r</th>\n",
       "      <th>cc</th>\n",
       "      <th>k</th>\n",
       "      <th>c</th>\n",
       "      <th>d</th>\n",
       "      <th>x</th>\n",
       "      <th>i</th>\n",
       "      <th>e</th>\n",
       "      <th>aa</th>\n",
       "      <th>ff</th>\n",
       "      <th>j</th>\n",
       "      <th>marital status</th>\n",
       "      <th>u</th>\n",
       "      <th>y</th>\n",
       "      <th>l</th>\n",
       "      <th>mean time at add</th>\n",
       "      <th>age</th>\n",
       "      <th>gender</th>\n",
       "      <th>target</th>\n",
       "    </tr>\n",
       "  </thead>\n",
       "  <tbody>\n",
       "    <tr>\n",
       "      <th>0</th>\n",
       "      <td>0.000000</td>\n",
       "      <td>5.313206</td>\n",
       "      <td>1.0</td>\n",
       "      <td>0.0</td>\n",
       "      <td>0.0</td>\n",
       "      <td>0</td>\n",
       "      <td>0.693147</td>\n",
       "      <td>1</td>\n",
       "      <td>1</td>\n",
       "      <td>0.810930</td>\n",
       "      <td>0.0</td>\n",
       "      <td>0.0</td>\n",
       "      <td>0.0</td>\n",
       "      <td>0.0</td>\n",
       "      <td>0.0</td>\n",
       "      <td>0.0</td>\n",
       "      <td>0.0</td>\n",
       "      <td>1.0</td>\n",
       "      <td>0.0</td>\n",
       "      <td>0.0</td>\n",
       "      <td>0.0</td>\n",
       "      <td>0.0</td>\n",
       "      <td>0.0</td>\n",
       "      <td>0.0</td>\n",
       "      <td>0.0</td>\n",
       "      <td>0.0</td>\n",
       "      <td>0.0</td>\n",
       "      <td>0.0</td>\n",
       "      <td>0.0</td>\n",
       "      <td>0.0</td>\n",
       "      <td>0.0</td>\n",
       "      <td>1.0</td>\n",
       "      <td>0.0</td>\n",
       "      <td>0</td>\n",
       "      <td>0.0</td>\n",
       "      <td>1.0</td>\n",
       "      <td>0.0</td>\n",
       "      <td>0.000000</td>\n",
       "      <td>3.428488</td>\n",
       "      <td>1</td>\n",
       "      <td>1</td>\n",
       "    </tr>\n",
       "    <tr>\n",
       "      <th>1</th>\n",
       "      <td>6.329721</td>\n",
       "      <td>3.784190</td>\n",
       "      <td>1.0</td>\n",
       "      <td>0.0</td>\n",
       "      <td>0.0</td>\n",
       "      <td>0</td>\n",
       "      <td>1.945910</td>\n",
       "      <td>1</td>\n",
       "      <td>1</td>\n",
       "      <td>1.396245</td>\n",
       "      <td>0.0</td>\n",
       "      <td>0.0</td>\n",
       "      <td>0.0</td>\n",
       "      <td>1.0</td>\n",
       "      <td>0.0</td>\n",
       "      <td>0.0</td>\n",
       "      <td>0.0</td>\n",
       "      <td>0.0</td>\n",
       "      <td>0.0</td>\n",
       "      <td>0.0</td>\n",
       "      <td>0.0</td>\n",
       "      <td>0.0</td>\n",
       "      <td>0.0</td>\n",
       "      <td>0.0</td>\n",
       "      <td>0.0</td>\n",
       "      <td>0.0</td>\n",
       "      <td>0.0</td>\n",
       "      <td>0.0</td>\n",
       "      <td>0.0</td>\n",
       "      <td>1.0</td>\n",
       "      <td>0.0</td>\n",
       "      <td>0.0</td>\n",
       "      <td>0.0</td>\n",
       "      <td>0</td>\n",
       "      <td>0.0</td>\n",
       "      <td>1.0</td>\n",
       "      <td>0.0</td>\n",
       "      <td>1.697449</td>\n",
       "      <td>4.071929</td>\n",
       "      <td>0</td>\n",
       "      <td>1</td>\n",
       "    </tr>\n",
       "    <tr>\n",
       "      <th>2</th>\n",
       "      <td>6.715383</td>\n",
       "      <td>5.638355</td>\n",
       "      <td>1.0</td>\n",
       "      <td>0.0</td>\n",
       "      <td>0.0</td>\n",
       "      <td>0</td>\n",
       "      <td>0.000000</td>\n",
       "      <td>0</td>\n",
       "      <td>1</td>\n",
       "      <td>0.916291</td>\n",
       "      <td>0.0</td>\n",
       "      <td>0.0</td>\n",
       "      <td>0.0</td>\n",
       "      <td>1.0</td>\n",
       "      <td>0.0</td>\n",
       "      <td>0.0</td>\n",
       "      <td>0.0</td>\n",
       "      <td>0.0</td>\n",
       "      <td>0.0</td>\n",
       "      <td>0.0</td>\n",
       "      <td>0.0</td>\n",
       "      <td>0.0</td>\n",
       "      <td>0.0</td>\n",
       "      <td>0.0</td>\n",
       "      <td>0.0</td>\n",
       "      <td>0.0</td>\n",
       "      <td>0.0</td>\n",
       "      <td>0.0</td>\n",
       "      <td>0.0</td>\n",
       "      <td>1.0</td>\n",
       "      <td>0.0</td>\n",
       "      <td>0.0</td>\n",
       "      <td>0.0</td>\n",
       "      <td>0</td>\n",
       "      <td>0.0</td>\n",
       "      <td>1.0</td>\n",
       "      <td>0.0</td>\n",
       "      <td>0.405465</td>\n",
       "      <td>3.198673</td>\n",
       "      <td>0</td>\n",
       "      <td>1</td>\n",
       "    </tr>\n",
       "    <tr>\n",
       "      <th>3</th>\n",
       "      <td>1.386294</td>\n",
       "      <td>4.615121</td>\n",
       "      <td>1.0</td>\n",
       "      <td>0.0</td>\n",
       "      <td>0.0</td>\n",
       "      <td>1</td>\n",
       "      <td>1.791759</td>\n",
       "      <td>1</td>\n",
       "      <td>1</td>\n",
       "      <td>1.558145</td>\n",
       "      <td>0.0</td>\n",
       "      <td>0.0</td>\n",
       "      <td>0.0</td>\n",
       "      <td>0.0</td>\n",
       "      <td>0.0</td>\n",
       "      <td>0.0</td>\n",
       "      <td>0.0</td>\n",
       "      <td>1.0</td>\n",
       "      <td>0.0</td>\n",
       "      <td>0.0</td>\n",
       "      <td>0.0</td>\n",
       "      <td>0.0</td>\n",
       "      <td>0.0</td>\n",
       "      <td>0.0</td>\n",
       "      <td>0.0</td>\n",
       "      <td>0.0</td>\n",
       "      <td>0.0</td>\n",
       "      <td>0.0</td>\n",
       "      <td>0.0</td>\n",
       "      <td>0.0</td>\n",
       "      <td>0.0</td>\n",
       "      <td>1.0</td>\n",
       "      <td>0.0</td>\n",
       "      <td>0</td>\n",
       "      <td>0.0</td>\n",
       "      <td>1.0</td>\n",
       "      <td>0.0</td>\n",
       "      <td>0.932164</td>\n",
       "      <td>3.326115</td>\n",
       "      <td>1</td>\n",
       "      <td>1</td>\n",
       "    </tr>\n",
       "    <tr>\n",
       "      <th>4</th>\n",
       "      <td>0.000000</td>\n",
       "      <td>4.795791</td>\n",
       "      <td>0.0</td>\n",
       "      <td>0.0</td>\n",
       "      <td>1.0</td>\n",
       "      <td>0</td>\n",
       "      <td>0.000000</td>\n",
       "      <td>0</td>\n",
       "      <td>1</td>\n",
       "      <td>0.996949</td>\n",
       "      <td>0.0</td>\n",
       "      <td>0.0</td>\n",
       "      <td>0.0</td>\n",
       "      <td>0.0</td>\n",
       "      <td>0.0</td>\n",
       "      <td>0.0</td>\n",
       "      <td>0.0</td>\n",
       "      <td>1.0</td>\n",
       "      <td>0.0</td>\n",
       "      <td>0.0</td>\n",
       "      <td>0.0</td>\n",
       "      <td>0.0</td>\n",
       "      <td>0.0</td>\n",
       "      <td>0.0</td>\n",
       "      <td>0.0</td>\n",
       "      <td>0.0</td>\n",
       "      <td>0.0</td>\n",
       "      <td>0.0</td>\n",
       "      <td>0.0</td>\n",
       "      <td>0.0</td>\n",
       "      <td>0.0</td>\n",
       "      <td>1.0</td>\n",
       "      <td>0.0</td>\n",
       "      <td>0</td>\n",
       "      <td>0.0</td>\n",
       "      <td>1.0</td>\n",
       "      <td>0.0</td>\n",
       "      <td>1.890850</td>\n",
       "      <td>3.004196</td>\n",
       "      <td>1</td>\n",
       "      <td>1</td>\n",
       "    </tr>\n",
       "  </tbody>\n",
       "</table>\n",
       "</div>"
      ],
      "text/plain": [
       "   savings Acc balance  monthly hou expense    g    s    p  liability ref  \\\n",
       "0             0.000000             5.313206  1.0  0.0  0.0              0   \n",
       "1             6.329721             3.784190  1.0  0.0  0.0              0   \n",
       "2             6.715383             5.638355  1.0  0.0  0.0              0   \n",
       "3             1.386294             4.615121  1.0  0.0  0.0              1   \n",
       "4             0.000000             4.795791  0.0  0.0  1.0              0   \n",
       "\n",
       "   Time with bank  bank account  other invest  mean time with employer    v  \\\n",
       "0        0.693147             1             1                 0.810930  0.0   \n",
       "1        1.945910             1             1                 1.396245  0.0   \n",
       "2        0.000000             0             1                 0.916291  0.0   \n",
       "3        1.791759             1             1                 1.558145  0.0   \n",
       "4        0.000000             0             1                 0.996949  0.0   \n",
       "\n",
       "     h   bb   ff    j    z    o   dd    n    w    q    m    r   cc    k    c  \\\n",
       "0  0.0  0.0  0.0  0.0  0.0  0.0  1.0  0.0  0.0  0.0  0.0  0.0  0.0  0.0  0.0   \n",
       "1  0.0  0.0  1.0  0.0  0.0  0.0  0.0  0.0  0.0  0.0  0.0  0.0  0.0  0.0  0.0   \n",
       "2  0.0  0.0  1.0  0.0  0.0  0.0  0.0  0.0  0.0  0.0  0.0  0.0  0.0  0.0  0.0   \n",
       "3  0.0  0.0  0.0  0.0  0.0  0.0  1.0  0.0  0.0  0.0  0.0  0.0  0.0  0.0  0.0   \n",
       "4  0.0  0.0  0.0  0.0  0.0  0.0  1.0  0.0  0.0  0.0  0.0  0.0  0.0  0.0  0.0   \n",
       "\n",
       "     d    x    i    e   aa   ff    j  marital status    u    y    l  \\\n",
       "0  0.0  0.0  0.0  0.0  0.0  1.0  0.0               0  0.0  1.0  0.0   \n",
       "1  0.0  0.0  0.0  1.0  0.0  0.0  0.0               0  0.0  1.0  0.0   \n",
       "2  0.0  0.0  0.0  1.0  0.0  0.0  0.0               0  0.0  1.0  0.0   \n",
       "3  0.0  0.0  0.0  0.0  0.0  1.0  0.0               0  0.0  1.0  0.0   \n",
       "4  0.0  0.0  0.0  0.0  0.0  1.0  0.0               0  0.0  1.0  0.0   \n",
       "\n",
       "   mean time at add       age  gender  target  \n",
       "0          0.000000  3.428488       1       1  \n",
       "1          1.697449  4.071929       0       1  \n",
       "2          0.405465  3.198673       0       1  \n",
       "3          0.932164  3.326115       1       1  \n",
       "4          1.890850  3.004196       1       1  "
      ]
     },
     "execution_count": 73,
     "metadata": {},
     "output_type": "execute_result"
    }
   ],
   "source": [
    "# Displaying the final dataset \n",
    "cr_ap.head() # 41 columns are present in the final dataset"
   ]
  },
  {
   "cell_type": "code",
   "execution_count": 132,
   "id": "6f860a88",
   "metadata": {},
   "outputs": [],
   "source": [
    "cr_ap.to_csv(\"credit_app_data.csv\",index=False)"
   ]
  },
  {
   "cell_type": "code",
   "execution_count": 74,
   "id": "1588d024",
   "metadata": {
    "scrolled": true
   },
   "outputs": [
    {
     "data": {
      "text/html": [
       "<div>\n",
       "<style scoped>\n",
       "    .dataframe tbody tr th:only-of-type {\n",
       "        vertical-align: middle;\n",
       "    }\n",
       "\n",
       "    .dataframe tbody tr th {\n",
       "        vertical-align: top;\n",
       "    }\n",
       "\n",
       "    .dataframe thead th {\n",
       "        text-align: right;\n",
       "    }\n",
       "</style>\n",
       "<table border=\"1\" class=\"dataframe\">\n",
       "  <thead>\n",
       "    <tr style=\"text-align: right;\">\n",
       "      <th></th>\n",
       "      <th>savings Acc balance</th>\n",
       "      <th>monthly hou expense</th>\n",
       "      <th>g</th>\n",
       "      <th>s</th>\n",
       "      <th>p</th>\n",
       "      <th>liability ref</th>\n",
       "      <th>Time with bank</th>\n",
       "      <th>bank account</th>\n",
       "      <th>other invest</th>\n",
       "      <th>mean time with employer</th>\n",
       "      <th>v</th>\n",
       "      <th>h</th>\n",
       "      <th>bb</th>\n",
       "      <th>ff</th>\n",
       "      <th>j</th>\n",
       "      <th>z</th>\n",
       "      <th>o</th>\n",
       "      <th>dd</th>\n",
       "      <th>n</th>\n",
       "      <th>w</th>\n",
       "      <th>q</th>\n",
       "      <th>m</th>\n",
       "      <th>r</th>\n",
       "      <th>cc</th>\n",
       "      <th>k</th>\n",
       "      <th>c</th>\n",
       "      <th>d</th>\n",
       "      <th>x</th>\n",
       "      <th>i</th>\n",
       "      <th>e</th>\n",
       "      <th>aa</th>\n",
       "      <th>ff</th>\n",
       "      <th>j</th>\n",
       "      <th>marital status</th>\n",
       "      <th>u</th>\n",
       "      <th>y</th>\n",
       "      <th>l</th>\n",
       "      <th>mean time at add</th>\n",
       "      <th>age</th>\n",
       "      <th>gender</th>\n",
       "      <th>target</th>\n",
       "    </tr>\n",
       "  </thead>\n",
       "  <tbody>\n",
       "    <tr>\n",
       "      <th>count</th>\n",
       "      <td>690.000000</td>\n",
       "      <td>690.000000</td>\n",
       "      <td>690.000000</td>\n",
       "      <td>690.000000</td>\n",
       "      <td>690.000000</td>\n",
       "      <td>690.000000</td>\n",
       "      <td>690.000000</td>\n",
       "      <td>690.000000</td>\n",
       "      <td>690.000000</td>\n",
       "      <td>690.000000</td>\n",
       "      <td>690.000000</td>\n",
       "      <td>690.000000</td>\n",
       "      <td>690.000000</td>\n",
       "      <td>690.00000</td>\n",
       "      <td>690.000000</td>\n",
       "      <td>690.000000</td>\n",
       "      <td>690.000000</td>\n",
       "      <td>690.000000</td>\n",
       "      <td>690.000000</td>\n",
       "      <td>690.000000</td>\n",
       "      <td>690.000000</td>\n",
       "      <td>690.000000</td>\n",
       "      <td>690.000000</td>\n",
       "      <td>690.000000</td>\n",
       "      <td>690.000000</td>\n",
       "      <td>690.000000</td>\n",
       "      <td>690.000000</td>\n",
       "      <td>690.000000</td>\n",
       "      <td>690.000000</td>\n",
       "      <td>690.000000</td>\n",
       "      <td>690.000000</td>\n",
       "      <td>690.000000</td>\n",
       "      <td>690.000000</td>\n",
       "      <td>690.000000</td>\n",
       "      <td>690.000000</td>\n",
       "      <td>690.000000</td>\n",
       "      <td>690.000000</td>\n",
       "      <td>690.000000</td>\n",
       "      <td>690.000000</td>\n",
       "      <td>690.000000</td>\n",
       "      <td>690.000000</td>\n",
       "    </tr>\n",
       "    <tr>\n",
       "      <th>mean</th>\n",
       "      <td>2.972321</td>\n",
       "      <td>4.233409</td>\n",
       "      <td>0.905797</td>\n",
       "      <td>0.011594</td>\n",
       "      <td>0.082609</td>\n",
       "      <td>0.457971</td>\n",
       "      <td>0.686481</td>\n",
       "      <td>0.427536</td>\n",
       "      <td>0.523188</td>\n",
       "      <td>0.836027</td>\n",
       "      <td>0.085507</td>\n",
       "      <td>0.008696</td>\n",
       "      <td>0.082609</td>\n",
       "      <td>0.20000</td>\n",
       "      <td>0.011594</td>\n",
       "      <td>0.005797</td>\n",
       "      <td>0.002899</td>\n",
       "      <td>0.591304</td>\n",
       "      <td>0.011594</td>\n",
       "      <td>0.078261</td>\n",
       "      <td>0.211594</td>\n",
       "      <td>0.059420</td>\n",
       "      <td>0.043478</td>\n",
       "      <td>0.036232</td>\n",
       "      <td>0.076812</td>\n",
       "      <td>0.085507</td>\n",
       "      <td>0.014493</td>\n",
       "      <td>0.073913</td>\n",
       "      <td>0.055072</td>\n",
       "      <td>0.113043</td>\n",
       "      <td>0.004348</td>\n",
       "      <td>0.092754</td>\n",
       "      <td>0.055072</td>\n",
       "      <td>0.481159</td>\n",
       "      <td>0.002899</td>\n",
       "      <td>0.760870</td>\n",
       "      <td>0.236232</td>\n",
       "      <td>1.402776</td>\n",
       "      <td>3.389159</td>\n",
       "      <td>0.695652</td>\n",
       "      <td>0.444928</td>\n",
       "    </tr>\n",
       "    <tr>\n",
       "      <th>std</th>\n",
       "      <td>3.188431</td>\n",
       "      <td>2.145083</td>\n",
       "      <td>0.292323</td>\n",
       "      <td>0.107128</td>\n",
       "      <td>0.275490</td>\n",
       "      <td>0.498592</td>\n",
       "      <td>0.928202</td>\n",
       "      <td>0.495080</td>\n",
       "      <td>0.499824</td>\n",
       "      <td>0.754519</td>\n",
       "      <td>0.279838</td>\n",
       "      <td>0.092912</td>\n",
       "      <td>0.275490</td>\n",
       "      <td>0.40029</td>\n",
       "      <td>0.107128</td>\n",
       "      <td>0.075973</td>\n",
       "      <td>0.053799</td>\n",
       "      <td>0.491949</td>\n",
       "      <td>0.107128</td>\n",
       "      <td>0.268776</td>\n",
       "      <td>0.408735</td>\n",
       "      <td>0.236581</td>\n",
       "      <td>0.204079</td>\n",
       "      <td>0.187002</td>\n",
       "      <td>0.266485</td>\n",
       "      <td>0.279838</td>\n",
       "      <td>0.119597</td>\n",
       "      <td>0.261819</td>\n",
       "      <td>0.228287</td>\n",
       "      <td>0.316876</td>\n",
       "      <td>0.065842</td>\n",
       "      <td>0.290297</td>\n",
       "      <td>0.228287</td>\n",
       "      <td>0.853793</td>\n",
       "      <td>0.053799</td>\n",
       "      <td>0.426862</td>\n",
       "      <td>0.425074</td>\n",
       "      <td>0.841048</td>\n",
       "      <td>0.348508</td>\n",
       "      <td>0.460464</td>\n",
       "      <td>0.497318</td>\n",
       "    </tr>\n",
       "    <tr>\n",
       "      <th>min</th>\n",
       "      <td>0.000000</td>\n",
       "      <td>0.000000</td>\n",
       "      <td>0.000000</td>\n",
       "      <td>0.000000</td>\n",
       "      <td>0.000000</td>\n",
       "      <td>0.000000</td>\n",
       "      <td>0.000000</td>\n",
       "      <td>0.000000</td>\n",
       "      <td>0.000000</td>\n",
       "      <td>0.000000</td>\n",
       "      <td>0.000000</td>\n",
       "      <td>0.000000</td>\n",
       "      <td>0.000000</td>\n",
       "      <td>0.00000</td>\n",
       "      <td>0.000000</td>\n",
       "      <td>0.000000</td>\n",
       "      <td>0.000000</td>\n",
       "      <td>0.000000</td>\n",
       "      <td>0.000000</td>\n",
       "      <td>0.000000</td>\n",
       "      <td>0.000000</td>\n",
       "      <td>0.000000</td>\n",
       "      <td>0.000000</td>\n",
       "      <td>0.000000</td>\n",
       "      <td>0.000000</td>\n",
       "      <td>0.000000</td>\n",
       "      <td>0.000000</td>\n",
       "      <td>0.000000</td>\n",
       "      <td>0.000000</td>\n",
       "      <td>0.000000</td>\n",
       "      <td>0.000000</td>\n",
       "      <td>0.000000</td>\n",
       "      <td>0.000000</td>\n",
       "      <td>0.000000</td>\n",
       "      <td>0.000000</td>\n",
       "      <td>0.000000</td>\n",
       "      <td>0.000000</td>\n",
       "      <td>0.000000</td>\n",
       "      <td>2.621039</td>\n",
       "      <td>0.000000</td>\n",
       "      <td>0.000000</td>\n",
       "    </tr>\n",
       "    <tr>\n",
       "      <th>25%</th>\n",
       "      <td>0.000000</td>\n",
       "      <td>4.394449</td>\n",
       "      <td>1.000000</td>\n",
       "      <td>0.000000</td>\n",
       "      <td>0.000000</td>\n",
       "      <td>0.000000</td>\n",
       "      <td>0.000000</td>\n",
       "      <td>0.000000</td>\n",
       "      <td>0.000000</td>\n",
       "      <td>0.152721</td>\n",
       "      <td>0.000000</td>\n",
       "      <td>0.000000</td>\n",
       "      <td>0.000000</td>\n",
       "      <td>0.00000</td>\n",
       "      <td>0.000000</td>\n",
       "      <td>0.000000</td>\n",
       "      <td>0.000000</td>\n",
       "      <td>0.000000</td>\n",
       "      <td>0.000000</td>\n",
       "      <td>0.000000</td>\n",
       "      <td>0.000000</td>\n",
       "      <td>0.000000</td>\n",
       "      <td>0.000000</td>\n",
       "      <td>0.000000</td>\n",
       "      <td>0.000000</td>\n",
       "      <td>0.000000</td>\n",
       "      <td>0.000000</td>\n",
       "      <td>0.000000</td>\n",
       "      <td>0.000000</td>\n",
       "      <td>0.000000</td>\n",
       "      <td>0.000000</td>\n",
       "      <td>0.000000</td>\n",
       "      <td>0.000000</td>\n",
       "      <td>0.000000</td>\n",
       "      <td>0.000000</td>\n",
       "      <td>1.000000</td>\n",
       "      <td>0.000000</td>\n",
       "      <td>0.693147</td>\n",
       "      <td>3.121042</td>\n",
       "      <td>0.000000</td>\n",
       "      <td>0.000000</td>\n",
       "    </tr>\n",
       "    <tr>\n",
       "      <th>50%</th>\n",
       "      <td>1.791759</td>\n",
       "      <td>5.081404</td>\n",
       "      <td>1.000000</td>\n",
       "      <td>0.000000</td>\n",
       "      <td>0.000000</td>\n",
       "      <td>0.000000</td>\n",
       "      <td>0.000000</td>\n",
       "      <td>0.000000</td>\n",
       "      <td>1.000000</td>\n",
       "      <td>0.693147</td>\n",
       "      <td>0.000000</td>\n",
       "      <td>0.000000</td>\n",
       "      <td>0.000000</td>\n",
       "      <td>0.00000</td>\n",
       "      <td>0.000000</td>\n",
       "      <td>0.000000</td>\n",
       "      <td>0.000000</td>\n",
       "      <td>1.000000</td>\n",
       "      <td>0.000000</td>\n",
       "      <td>0.000000</td>\n",
       "      <td>0.000000</td>\n",
       "      <td>0.000000</td>\n",
       "      <td>0.000000</td>\n",
       "      <td>0.000000</td>\n",
       "      <td>0.000000</td>\n",
       "      <td>0.000000</td>\n",
       "      <td>0.000000</td>\n",
       "      <td>0.000000</td>\n",
       "      <td>0.000000</td>\n",
       "      <td>0.000000</td>\n",
       "      <td>0.000000</td>\n",
       "      <td>0.000000</td>\n",
       "      <td>0.000000</td>\n",
       "      <td>0.000000</td>\n",
       "      <td>0.000000</td>\n",
       "      <td>1.000000</td>\n",
       "      <td>0.000000</td>\n",
       "      <td>1.321756</td>\n",
       "      <td>3.354279</td>\n",
       "      <td>1.000000</td>\n",
       "      <td>0.000000</td>\n",
       "    </tr>\n",
       "    <tr>\n",
       "      <th>75%</th>\n",
       "      <td>5.982674</td>\n",
       "      <td>5.624018</td>\n",
       "      <td>1.000000</td>\n",
       "      <td>0.000000</td>\n",
       "      <td>0.000000</td>\n",
       "      <td>1.000000</td>\n",
       "      <td>1.386294</td>\n",
       "      <td>1.000000</td>\n",
       "      <td>1.000000</td>\n",
       "      <td>1.287854</td>\n",
       "      <td>0.000000</td>\n",
       "      <td>0.000000</td>\n",
       "      <td>0.000000</td>\n",
       "      <td>0.00000</td>\n",
       "      <td>0.000000</td>\n",
       "      <td>0.000000</td>\n",
       "      <td>0.000000</td>\n",
       "      <td>1.000000</td>\n",
       "      <td>0.000000</td>\n",
       "      <td>0.000000</td>\n",
       "      <td>0.000000</td>\n",
       "      <td>0.000000</td>\n",
       "      <td>0.000000</td>\n",
       "      <td>0.000000</td>\n",
       "      <td>0.000000</td>\n",
       "      <td>0.000000</td>\n",
       "      <td>0.000000</td>\n",
       "      <td>0.000000</td>\n",
       "      <td>0.000000</td>\n",
       "      <td>0.000000</td>\n",
       "      <td>0.000000</td>\n",
       "      <td>0.000000</td>\n",
       "      <td>0.000000</td>\n",
       "      <td>0.000000</td>\n",
       "      <td>0.000000</td>\n",
       "      <td>1.000000</td>\n",
       "      <td>0.000000</td>\n",
       "      <td>2.105008</td>\n",
       "      <td>3.629857</td>\n",
       "      <td>1.000000</td>\n",
       "      <td>1.000000</td>\n",
       "    </tr>\n",
       "    <tr>\n",
       "      <th>max</th>\n",
       "      <td>11.512935</td>\n",
       "      <td>7.601402</td>\n",
       "      <td>1.000000</td>\n",
       "      <td>1.000000</td>\n",
       "      <td>1.000000</td>\n",
       "      <td>1.000000</td>\n",
       "      <td>4.219508</td>\n",
       "      <td>1.000000</td>\n",
       "      <td>1.000000</td>\n",
       "      <td>3.384390</td>\n",
       "      <td>1.000000</td>\n",
       "      <td>1.000000</td>\n",
       "      <td>1.000000</td>\n",
       "      <td>1.00000</td>\n",
       "      <td>1.000000</td>\n",
       "      <td>1.000000</td>\n",
       "      <td>1.000000</td>\n",
       "      <td>1.000000</td>\n",
       "      <td>1.000000</td>\n",
       "      <td>1.000000</td>\n",
       "      <td>1.000000</td>\n",
       "      <td>1.000000</td>\n",
       "      <td>1.000000</td>\n",
       "      <td>1.000000</td>\n",
       "      <td>1.000000</td>\n",
       "      <td>1.000000</td>\n",
       "      <td>1.000000</td>\n",
       "      <td>1.000000</td>\n",
       "      <td>1.000000</td>\n",
       "      <td>1.000000</td>\n",
       "      <td>1.000000</td>\n",
       "      <td>1.000000</td>\n",
       "      <td>1.000000</td>\n",
       "      <td>2.000000</td>\n",
       "      <td>1.000000</td>\n",
       "      <td>1.000000</td>\n",
       "      <td>1.000000</td>\n",
       "      <td>3.367296</td>\n",
       "      <td>4.385147</td>\n",
       "      <td>1.000000</td>\n",
       "      <td>1.000000</td>\n",
       "    </tr>\n",
       "  </tbody>\n",
       "</table>\n",
       "</div>"
      ],
      "text/plain": [
       "       savings Acc balance  monthly hou expense           g           s  \\\n",
       "count           690.000000           690.000000  690.000000  690.000000   \n",
       "mean              2.972321             4.233409    0.905797    0.011594   \n",
       "std               3.188431             2.145083    0.292323    0.107128   \n",
       "min               0.000000             0.000000    0.000000    0.000000   \n",
       "25%               0.000000             4.394449    1.000000    0.000000   \n",
       "50%               1.791759             5.081404    1.000000    0.000000   \n",
       "75%               5.982674             5.624018    1.000000    0.000000   \n",
       "max              11.512935             7.601402    1.000000    1.000000   \n",
       "\n",
       "                p  liability ref  Time with bank  bank account  other invest  \\\n",
       "count  690.000000     690.000000      690.000000    690.000000    690.000000   \n",
       "mean     0.082609       0.457971        0.686481      0.427536      0.523188   \n",
       "std      0.275490       0.498592        0.928202      0.495080      0.499824   \n",
       "min      0.000000       0.000000        0.000000      0.000000      0.000000   \n",
       "25%      0.000000       0.000000        0.000000      0.000000      0.000000   \n",
       "50%      0.000000       0.000000        0.000000      0.000000      1.000000   \n",
       "75%      0.000000       1.000000        1.386294      1.000000      1.000000   \n",
       "max      1.000000       1.000000        4.219508      1.000000      1.000000   \n",
       "\n",
       "       mean time with employer           v           h          bb         ff  \\\n",
       "count               690.000000  690.000000  690.000000  690.000000  690.00000   \n",
       "mean                  0.836027    0.085507    0.008696    0.082609    0.20000   \n",
       "std                   0.754519    0.279838    0.092912    0.275490    0.40029   \n",
       "min                   0.000000    0.000000    0.000000    0.000000    0.00000   \n",
       "25%                   0.152721    0.000000    0.000000    0.000000    0.00000   \n",
       "50%                   0.693147    0.000000    0.000000    0.000000    0.00000   \n",
       "75%                   1.287854    0.000000    0.000000    0.000000    0.00000   \n",
       "max                   3.384390    1.000000    1.000000    1.000000    1.00000   \n",
       "\n",
       "                j           z           o          dd           n           w  \\\n",
       "count  690.000000  690.000000  690.000000  690.000000  690.000000  690.000000   \n",
       "mean     0.011594    0.005797    0.002899    0.591304    0.011594    0.078261   \n",
       "std      0.107128    0.075973    0.053799    0.491949    0.107128    0.268776   \n",
       "min      0.000000    0.000000    0.000000    0.000000    0.000000    0.000000   \n",
       "25%      0.000000    0.000000    0.000000    0.000000    0.000000    0.000000   \n",
       "50%      0.000000    0.000000    0.000000    1.000000    0.000000    0.000000   \n",
       "75%      0.000000    0.000000    0.000000    1.000000    0.000000    0.000000   \n",
       "max      1.000000    1.000000    1.000000    1.000000    1.000000    1.000000   \n",
       "\n",
       "                q           m           r          cc           k           c  \\\n",
       "count  690.000000  690.000000  690.000000  690.000000  690.000000  690.000000   \n",
       "mean     0.211594    0.059420    0.043478    0.036232    0.076812    0.085507   \n",
       "std      0.408735    0.236581    0.204079    0.187002    0.266485    0.279838   \n",
       "min      0.000000    0.000000    0.000000    0.000000    0.000000    0.000000   \n",
       "25%      0.000000    0.000000    0.000000    0.000000    0.000000    0.000000   \n",
       "50%      0.000000    0.000000    0.000000    0.000000    0.000000    0.000000   \n",
       "75%      0.000000    0.000000    0.000000    0.000000    0.000000    0.000000   \n",
       "max      1.000000    1.000000    1.000000    1.000000    1.000000    1.000000   \n",
       "\n",
       "                d           x           i           e          aa          ff  \\\n",
       "count  690.000000  690.000000  690.000000  690.000000  690.000000  690.000000   \n",
       "mean     0.014493    0.073913    0.055072    0.113043    0.004348    0.092754   \n",
       "std      0.119597    0.261819    0.228287    0.316876    0.065842    0.290297   \n",
       "min      0.000000    0.000000    0.000000    0.000000    0.000000    0.000000   \n",
       "25%      0.000000    0.000000    0.000000    0.000000    0.000000    0.000000   \n",
       "50%      0.000000    0.000000    0.000000    0.000000    0.000000    0.000000   \n",
       "75%      0.000000    0.000000    0.000000    0.000000    0.000000    0.000000   \n",
       "max      1.000000    1.000000    1.000000    1.000000    1.000000    1.000000   \n",
       "\n",
       "                j  marital status           u           y           l  \\\n",
       "count  690.000000      690.000000  690.000000  690.000000  690.000000   \n",
       "mean     0.055072        0.481159    0.002899    0.760870    0.236232   \n",
       "std      0.228287        0.853793    0.053799    0.426862    0.425074   \n",
       "min      0.000000        0.000000    0.000000    0.000000    0.000000   \n",
       "25%      0.000000        0.000000    0.000000    1.000000    0.000000   \n",
       "50%      0.000000        0.000000    0.000000    1.000000    0.000000   \n",
       "75%      0.000000        0.000000    0.000000    1.000000    0.000000   \n",
       "max      1.000000        2.000000    1.000000    1.000000    1.000000   \n",
       "\n",
       "       mean time at add         age      gender      target  \n",
       "count        690.000000  690.000000  690.000000  690.000000  \n",
       "mean           1.402776    3.389159    0.695652    0.444928  \n",
       "std            0.841048    0.348508    0.460464    0.497318  \n",
       "min            0.000000    2.621039    0.000000    0.000000  \n",
       "25%            0.693147    3.121042    0.000000    0.000000  \n",
       "50%            1.321756    3.354279    1.000000    0.000000  \n",
       "75%            2.105008    3.629857    1.000000    1.000000  \n",
       "max            3.367296    4.385147    1.000000    1.000000  "
      ]
     },
     "execution_count": 74,
     "metadata": {},
     "output_type": "execute_result"
    }
   ],
   "source": [
    "cr_ap.describe()"
   ]
  },
  {
   "cell_type": "markdown",
   "id": "1b8187f1",
   "metadata": {},
   "source": [
    "### 5. Feature Selection"
   ]
  },
  {
   "cell_type": "code",
   "execution_count": 92,
   "id": "beaa42e1",
   "metadata": {},
   "outputs": [
    {
     "data": {
      "text/plain": [
       "monthly hou expense   -0.174302\n",
       "g                      0.089056\n",
       "s                      0.039245\n",
       "p                     -0.109758\n",
       "liability ref          0.031625\n",
       "v                     -0.013044\n",
       "h                     -0.021031\n",
       "bb                    -0.183913\n",
       "ff                     0.186643\n",
       "j                     -0.015240\n",
       "z                      0.008462\n",
       "o                      0.005975\n",
       "dd                    -0.050605\n",
       "n                      0.066487\n",
       "w                     -0.054574\n",
       "q                      0.007430\n",
       "m                      0.132708\n",
       "r                     -0.090776\n",
       "cc                     0.044896\n",
       "k                     -0.181588\n",
       "c                     -0.127762\n",
       "d                     -0.035365\n",
       "x                     -0.096879\n",
       "i                     -0.011598\n",
       "e                      0.150082\n",
       "aa                     0.029485\n",
       "ff                     0.045487\n",
       "j                      0.192945\n",
       "marital status        -0.183610\n",
       "u                      0.060221\n",
       "y                      0.180583\n",
       "l                     -0.188964\n",
       "mean time at add       0.196301\n",
       "age                    0.159272\n",
       "gender                -0.028934\n",
       "Name: target, dtype: float64"
      ]
     },
     "execution_count": 92,
     "metadata": {},
     "output_type": "execute_result"
    }
   ],
   "source": [
    "corr_value=cr_ap.corr() # correlation coefficient values of all the variables is computed\n",
    "weak_var=corr_value[(corr_value['target']<0.3) & (corr_value['target']>-0.3)]# data of weak correlation with target variable\n",
    "# variables with correlation coefficient between -0.3 to 0.3 is considered as weak.\n",
    "weak_var['target']"
   ]
  },
  {
   "cell_type": "markdown",
   "id": "cfce28d2",
   "metadata": {},
   "source": [
    "- The above values of correlation coefficient are between the tow variables which are categorical.\n",
    "- A different approach should be followed to check the correlation between two variables which are categorical.\n",
    "- Generally it is seen that the data scientist ignore to check the correlation between two variables which have combination of either categorical-categorical or categorical-continuous.\n",
    "- we may for the first try ignore to check the correlation between the two variables and compute the accuracy.\n",
    "- secondly we can check for the correlation and based on that select the features that have strong correlation between each other and then compute the accuracy."
   ]
  },
  {
   "cell_type": "markdown",
   "id": "be815554",
   "metadata": {},
   "source": [
    "### 6. Model building"
   ]
  },
  {
   "cell_type": "code",
   "execution_count": 96,
   "id": "5c41e0d4",
   "metadata": {},
   "outputs": [],
   "source": [
    "# first the dataframe is divided into independent and dependent variables.\n",
    "\n",
    "x = cr_ap.drop(\"target\",axis=1) # dataframe of all independent variables by dropping dependent variable.\n",
    "y=cr_ap['target'] # dataframe consisting of target column only."
   ]
  },
  {
   "cell_type": "code",
   "execution_count": 103,
   "id": "7a9f0f69",
   "metadata": {},
   "outputs": [
    {
     "data": {
      "text/plain": [
       "(552,)"
      ]
     },
     "execution_count": 103,
     "metadata": {},
     "output_type": "execute_result"
    }
   ],
   "source": [
    "from sklearn.model_selection import train_test_split\n",
    "x_train,x_test,y_train,y_test=train_test_split(x,y,train_size=0.8,random_state=42,stratify=y)\n",
    "y_train.shape # check if the data is correctly split or not"
   ]
  },
  {
   "cell_type": "code",
   "execution_count": 110,
   "id": "5a99d07e",
   "metadata": {
    "scrolled": true
   },
   "outputs": [
    {
     "data": {
      "text/html": [
       "<div>\n",
       "<style scoped>\n",
       "    .dataframe tbody tr th:only-of-type {\n",
       "        vertical-align: middle;\n",
       "    }\n",
       "\n",
       "    .dataframe tbody tr th {\n",
       "        vertical-align: top;\n",
       "    }\n",
       "\n",
       "    .dataframe thead th {\n",
       "        text-align: right;\n",
       "    }\n",
       "</style>\n",
       "<table border=\"1\" class=\"dataframe\">\n",
       "  <thead>\n",
       "    <tr style=\"text-align: right;\">\n",
       "      <th></th>\n",
       "      <th>savings Acc balance</th>\n",
       "      <th>monthly hou expense</th>\n",
       "      <th>g</th>\n",
       "      <th>s</th>\n",
       "      <th>p</th>\n",
       "      <th>liability ref</th>\n",
       "      <th>Time with bank</th>\n",
       "      <th>bank account</th>\n",
       "      <th>other invest</th>\n",
       "      <th>mean time with employer</th>\n",
       "      <th>v</th>\n",
       "      <th>h</th>\n",
       "      <th>bb</th>\n",
       "      <th>ff</th>\n",
       "      <th>j</th>\n",
       "      <th>z</th>\n",
       "      <th>o</th>\n",
       "      <th>dd</th>\n",
       "      <th>n</th>\n",
       "      <th>w</th>\n",
       "      <th>q</th>\n",
       "      <th>m</th>\n",
       "      <th>r</th>\n",
       "      <th>cc</th>\n",
       "      <th>k</th>\n",
       "      <th>c</th>\n",
       "      <th>d</th>\n",
       "      <th>x</th>\n",
       "      <th>i</th>\n",
       "      <th>e</th>\n",
       "      <th>aa</th>\n",
       "      <th>ff</th>\n",
       "      <th>j</th>\n",
       "      <th>marital status</th>\n",
       "      <th>u</th>\n",
       "      <th>y</th>\n",
       "      <th>l</th>\n",
       "      <th>mean time at add</th>\n",
       "      <th>age</th>\n",
       "      <th>gender</th>\n",
       "    </tr>\n",
       "  </thead>\n",
       "  <tbody>\n",
       "    <tr>\n",
       "      <th>count</th>\n",
       "      <td>552.000000</td>\n",
       "      <td>552.000000</td>\n",
       "      <td>552.000000</td>\n",
       "      <td>552.000000</td>\n",
       "      <td>552.000000</td>\n",
       "      <td>552.000000</td>\n",
       "      <td>552.000000</td>\n",
       "      <td>552.000000</td>\n",
       "      <td>552.000000</td>\n",
       "      <td>552.000000</td>\n",
       "      <td>552.000000</td>\n",
       "      <td>552.000000</td>\n",
       "      <td>552.000000</td>\n",
       "      <td>552.000000</td>\n",
       "      <td>552.000000</td>\n",
       "      <td>552.000000</td>\n",
       "      <td>552.000000</td>\n",
       "      <td>552.000000</td>\n",
       "      <td>552.000000</td>\n",
       "      <td>552.000000</td>\n",
       "      <td>552.000000</td>\n",
       "      <td>552.000000</td>\n",
       "      <td>552.000000</td>\n",
       "      <td>552.000000</td>\n",
       "      <td>552.000000</td>\n",
       "      <td>552.00000</td>\n",
       "      <td>552.000000</td>\n",
       "      <td>552.000000</td>\n",
       "      <td>552.000000</td>\n",
       "      <td>552.000000</td>\n",
       "      <td>552.000000</td>\n",
       "      <td>552.000000</td>\n",
       "      <td>552.000000</td>\n",
       "      <td>552.000000</td>\n",
       "      <td>552.000000</td>\n",
       "      <td>552.000000</td>\n",
       "      <td>552.000000</td>\n",
       "      <td>552.000000</td>\n",
       "      <td>552.000000</td>\n",
       "      <td>552.000000</td>\n",
       "    </tr>\n",
       "    <tr>\n",
       "      <th>mean</th>\n",
       "      <td>3.016344</td>\n",
       "      <td>4.222944</td>\n",
       "      <td>0.898551</td>\n",
       "      <td>0.012681</td>\n",
       "      <td>0.088768</td>\n",
       "      <td>0.454710</td>\n",
       "      <td>0.708592</td>\n",
       "      <td>0.440217</td>\n",
       "      <td>0.525362</td>\n",
       "      <td>0.824008</td>\n",
       "      <td>0.083333</td>\n",
       "      <td>0.009058</td>\n",
       "      <td>0.090580</td>\n",
       "      <td>0.181159</td>\n",
       "      <td>0.010870</td>\n",
       "      <td>0.005435</td>\n",
       "      <td>0.003623</td>\n",
       "      <td>0.601449</td>\n",
       "      <td>0.014493</td>\n",
       "      <td>0.076087</td>\n",
       "      <td>0.215580</td>\n",
       "      <td>0.057971</td>\n",
       "      <td>0.038043</td>\n",
       "      <td>0.038043</td>\n",
       "      <td>0.083333</td>\n",
       "      <td>0.07971</td>\n",
       "      <td>0.014493</td>\n",
       "      <td>0.070652</td>\n",
       "      <td>0.059783</td>\n",
       "      <td>0.115942</td>\n",
       "      <td>0.005435</td>\n",
       "      <td>0.088768</td>\n",
       "      <td>0.056159</td>\n",
       "      <td>0.442029</td>\n",
       "      <td>0.003623</td>\n",
       "      <td>0.780797</td>\n",
       "      <td>0.215580</td>\n",
       "      <td>1.399836</td>\n",
       "      <td>3.390216</td>\n",
       "      <td>0.695652</td>\n",
       "    </tr>\n",
       "    <tr>\n",
       "      <th>std</th>\n",
       "      <td>3.177486</td>\n",
       "      <td>2.141385</td>\n",
       "      <td>0.302197</td>\n",
       "      <td>0.111996</td>\n",
       "      <td>0.284667</td>\n",
       "      <td>0.498396</td>\n",
       "      <td>0.936397</td>\n",
       "      <td>0.496863</td>\n",
       "      <td>0.499809</td>\n",
       "      <td>0.743624</td>\n",
       "      <td>0.276636</td>\n",
       "      <td>0.094827</td>\n",
       "      <td>0.287271</td>\n",
       "      <td>0.385500</td>\n",
       "      <td>0.103783</td>\n",
       "      <td>0.073587</td>\n",
       "      <td>0.060138</td>\n",
       "      <td>0.490044</td>\n",
       "      <td>0.119619</td>\n",
       "      <td>0.265378</td>\n",
       "      <td>0.411597</td>\n",
       "      <td>0.233901</td>\n",
       "      <td>0.191475</td>\n",
       "      <td>0.191475</td>\n",
       "      <td>0.276636</td>\n",
       "      <td>0.27109</td>\n",
       "      <td>0.119619</td>\n",
       "      <td>0.256475</td>\n",
       "      <td>0.237299</td>\n",
       "      <td>0.320446</td>\n",
       "      <td>0.073587</td>\n",
       "      <td>0.284667</td>\n",
       "      <td>0.230438</td>\n",
       "      <td>0.828425</td>\n",
       "      <td>0.060138</td>\n",
       "      <td>0.414082</td>\n",
       "      <td>0.411597</td>\n",
       "      <td>0.846237</td>\n",
       "      <td>0.342115</td>\n",
       "      <td>0.460548</td>\n",
       "    </tr>\n",
       "    <tr>\n",
       "      <th>min</th>\n",
       "      <td>0.000000</td>\n",
       "      <td>0.000000</td>\n",
       "      <td>0.000000</td>\n",
       "      <td>0.000000</td>\n",
       "      <td>0.000000</td>\n",
       "      <td>0.000000</td>\n",
       "      <td>0.000000</td>\n",
       "      <td>0.000000</td>\n",
       "      <td>0.000000</td>\n",
       "      <td>0.000000</td>\n",
       "      <td>0.000000</td>\n",
       "      <td>0.000000</td>\n",
       "      <td>0.000000</td>\n",
       "      <td>0.000000</td>\n",
       "      <td>0.000000</td>\n",
       "      <td>0.000000</td>\n",
       "      <td>0.000000</td>\n",
       "      <td>0.000000</td>\n",
       "      <td>0.000000</td>\n",
       "      <td>0.000000</td>\n",
       "      <td>0.000000</td>\n",
       "      <td>0.000000</td>\n",
       "      <td>0.000000</td>\n",
       "      <td>0.000000</td>\n",
       "      <td>0.000000</td>\n",
       "      <td>0.00000</td>\n",
       "      <td>0.000000</td>\n",
       "      <td>0.000000</td>\n",
       "      <td>0.000000</td>\n",
       "      <td>0.000000</td>\n",
       "      <td>0.000000</td>\n",
       "      <td>0.000000</td>\n",
       "      <td>0.000000</td>\n",
       "      <td>0.000000</td>\n",
       "      <td>0.000000</td>\n",
       "      <td>0.000000</td>\n",
       "      <td>0.000000</td>\n",
       "      <td>0.000000</td>\n",
       "      <td>2.719320</td>\n",
       "      <td>0.000000</td>\n",
       "    </tr>\n",
       "    <tr>\n",
       "      <th>25%</th>\n",
       "      <td>0.000000</td>\n",
       "      <td>4.394449</td>\n",
       "      <td>1.000000</td>\n",
       "      <td>0.000000</td>\n",
       "      <td>0.000000</td>\n",
       "      <td>0.000000</td>\n",
       "      <td>0.000000</td>\n",
       "      <td>0.000000</td>\n",
       "      <td>0.000000</td>\n",
       "      <td>0.152721</td>\n",
       "      <td>0.000000</td>\n",
       "      <td>0.000000</td>\n",
       "      <td>0.000000</td>\n",
       "      <td>0.000000</td>\n",
       "      <td>0.000000</td>\n",
       "      <td>0.000000</td>\n",
       "      <td>0.000000</td>\n",
       "      <td>0.000000</td>\n",
       "      <td>0.000000</td>\n",
       "      <td>0.000000</td>\n",
       "      <td>0.000000</td>\n",
       "      <td>0.000000</td>\n",
       "      <td>0.000000</td>\n",
       "      <td>0.000000</td>\n",
       "      <td>0.000000</td>\n",
       "      <td>0.00000</td>\n",
       "      <td>0.000000</td>\n",
       "      <td>0.000000</td>\n",
       "      <td>0.000000</td>\n",
       "      <td>0.000000</td>\n",
       "      <td>0.000000</td>\n",
       "      <td>0.000000</td>\n",
       "      <td>0.000000</td>\n",
       "      <td>0.000000</td>\n",
       "      <td>0.000000</td>\n",
       "      <td>1.000000</td>\n",
       "      <td>0.000000</td>\n",
       "      <td>0.693147</td>\n",
       "      <td>3.124565</td>\n",
       "      <td>0.000000</td>\n",
       "    </tr>\n",
       "    <tr>\n",
       "      <th>50%</th>\n",
       "      <td>1.868835</td>\n",
       "      <td>5.081404</td>\n",
       "      <td>1.000000</td>\n",
       "      <td>0.000000</td>\n",
       "      <td>0.000000</td>\n",
       "      <td>0.000000</td>\n",
       "      <td>0.000000</td>\n",
       "      <td>0.000000</td>\n",
       "      <td>1.000000</td>\n",
       "      <td>0.693147</td>\n",
       "      <td>0.000000</td>\n",
       "      <td>0.000000</td>\n",
       "      <td>0.000000</td>\n",
       "      <td>0.000000</td>\n",
       "      <td>0.000000</td>\n",
       "      <td>0.000000</td>\n",
       "      <td>0.000000</td>\n",
       "      <td>1.000000</td>\n",
       "      <td>0.000000</td>\n",
       "      <td>0.000000</td>\n",
       "      <td>0.000000</td>\n",
       "      <td>0.000000</td>\n",
       "      <td>0.000000</td>\n",
       "      <td>0.000000</td>\n",
       "      <td>0.000000</td>\n",
       "      <td>0.00000</td>\n",
       "      <td>0.000000</td>\n",
       "      <td>0.000000</td>\n",
       "      <td>0.000000</td>\n",
       "      <td>0.000000</td>\n",
       "      <td>0.000000</td>\n",
       "      <td>0.000000</td>\n",
       "      <td>0.000000</td>\n",
       "      <td>0.000000</td>\n",
       "      <td>0.000000</td>\n",
       "      <td>1.000000</td>\n",
       "      <td>0.000000</td>\n",
       "      <td>1.264127</td>\n",
       "      <td>3.352707</td>\n",
       "      <td>1.000000</td>\n",
       "    </tr>\n",
       "    <tr>\n",
       "      <th>75%</th>\n",
       "      <td>5.913459</td>\n",
       "      <td>5.624018</td>\n",
       "      <td>1.000000</td>\n",
       "      <td>0.000000</td>\n",
       "      <td>0.000000</td>\n",
       "      <td>1.000000</td>\n",
       "      <td>1.386294</td>\n",
       "      <td>1.000000</td>\n",
       "      <td>1.000000</td>\n",
       "      <td>1.252763</td>\n",
       "      <td>0.000000</td>\n",
       "      <td>0.000000</td>\n",
       "      <td>0.000000</td>\n",
       "      <td>0.000000</td>\n",
       "      <td>0.000000</td>\n",
       "      <td>0.000000</td>\n",
       "      <td>0.000000</td>\n",
       "      <td>1.000000</td>\n",
       "      <td>0.000000</td>\n",
       "      <td>0.000000</td>\n",
       "      <td>0.000000</td>\n",
       "      <td>0.000000</td>\n",
       "      <td>0.000000</td>\n",
       "      <td>0.000000</td>\n",
       "      <td>0.000000</td>\n",
       "      <td>0.00000</td>\n",
       "      <td>0.000000</td>\n",
       "      <td>0.000000</td>\n",
       "      <td>0.000000</td>\n",
       "      <td>0.000000</td>\n",
       "      <td>0.000000</td>\n",
       "      <td>0.000000</td>\n",
       "      <td>0.000000</td>\n",
       "      <td>0.000000</td>\n",
       "      <td>0.000000</td>\n",
       "      <td>1.000000</td>\n",
       "      <td>0.000000</td>\n",
       "      <td>2.140066</td>\n",
       "      <td>3.624341</td>\n",
       "      <td>1.000000</td>\n",
       "    </tr>\n",
       "    <tr>\n",
       "      <th>max</th>\n",
       "      <td>11.512935</td>\n",
       "      <td>7.057037</td>\n",
       "      <td>1.000000</td>\n",
       "      <td>1.000000</td>\n",
       "      <td>1.000000</td>\n",
       "      <td>1.000000</td>\n",
       "      <td>4.219508</td>\n",
       "      <td>1.000000</td>\n",
       "      <td>1.000000</td>\n",
       "      <td>3.384390</td>\n",
       "      <td>1.000000</td>\n",
       "      <td>1.000000</td>\n",
       "      <td>1.000000</td>\n",
       "      <td>1.000000</td>\n",
       "      <td>1.000000</td>\n",
       "      <td>1.000000</td>\n",
       "      <td>1.000000</td>\n",
       "      <td>1.000000</td>\n",
       "      <td>1.000000</td>\n",
       "      <td>1.000000</td>\n",
       "      <td>1.000000</td>\n",
       "      <td>1.000000</td>\n",
       "      <td>1.000000</td>\n",
       "      <td>1.000000</td>\n",
       "      <td>1.000000</td>\n",
       "      <td>1.00000</td>\n",
       "      <td>1.000000</td>\n",
       "      <td>1.000000</td>\n",
       "      <td>1.000000</td>\n",
       "      <td>1.000000</td>\n",
       "      <td>1.000000</td>\n",
       "      <td>1.000000</td>\n",
       "      <td>1.000000</td>\n",
       "      <td>2.000000</td>\n",
       "      <td>1.000000</td>\n",
       "      <td>1.000000</td>\n",
       "      <td>1.000000</td>\n",
       "      <td>3.367296</td>\n",
       "      <td>4.385147</td>\n",
       "      <td>1.000000</td>\n",
       "    </tr>\n",
       "  </tbody>\n",
       "</table>\n",
       "</div>"
      ],
      "text/plain": [
       "       savings Acc balance  monthly hou expense           g           s  \\\n",
       "count           552.000000           552.000000  552.000000  552.000000   \n",
       "mean              3.016344             4.222944    0.898551    0.012681   \n",
       "std               3.177486             2.141385    0.302197    0.111996   \n",
       "min               0.000000             0.000000    0.000000    0.000000   \n",
       "25%               0.000000             4.394449    1.000000    0.000000   \n",
       "50%               1.868835             5.081404    1.000000    0.000000   \n",
       "75%               5.913459             5.624018    1.000000    0.000000   \n",
       "max              11.512935             7.057037    1.000000    1.000000   \n",
       "\n",
       "                p  liability ref  Time with bank  bank account  other invest  \\\n",
       "count  552.000000     552.000000      552.000000    552.000000    552.000000   \n",
       "mean     0.088768       0.454710        0.708592      0.440217      0.525362   \n",
       "std      0.284667       0.498396        0.936397      0.496863      0.499809   \n",
       "min      0.000000       0.000000        0.000000      0.000000      0.000000   \n",
       "25%      0.000000       0.000000        0.000000      0.000000      0.000000   \n",
       "50%      0.000000       0.000000        0.000000      0.000000      1.000000   \n",
       "75%      0.000000       1.000000        1.386294      1.000000      1.000000   \n",
       "max      1.000000       1.000000        4.219508      1.000000      1.000000   \n",
       "\n",
       "       mean time with employer           v           h          bb  \\\n",
       "count               552.000000  552.000000  552.000000  552.000000   \n",
       "mean                  0.824008    0.083333    0.009058    0.090580   \n",
       "std                   0.743624    0.276636    0.094827    0.287271   \n",
       "min                   0.000000    0.000000    0.000000    0.000000   \n",
       "25%                   0.152721    0.000000    0.000000    0.000000   \n",
       "50%                   0.693147    0.000000    0.000000    0.000000   \n",
       "75%                   1.252763    0.000000    0.000000    0.000000   \n",
       "max                   3.384390    1.000000    1.000000    1.000000   \n",
       "\n",
       "               ff           j           z           o          dd           n  \\\n",
       "count  552.000000  552.000000  552.000000  552.000000  552.000000  552.000000   \n",
       "mean     0.181159    0.010870    0.005435    0.003623    0.601449    0.014493   \n",
       "std      0.385500    0.103783    0.073587    0.060138    0.490044    0.119619   \n",
       "min      0.000000    0.000000    0.000000    0.000000    0.000000    0.000000   \n",
       "25%      0.000000    0.000000    0.000000    0.000000    0.000000    0.000000   \n",
       "50%      0.000000    0.000000    0.000000    0.000000    1.000000    0.000000   \n",
       "75%      0.000000    0.000000    0.000000    0.000000    1.000000    0.000000   \n",
       "max      1.000000    1.000000    1.000000    1.000000    1.000000    1.000000   \n",
       "\n",
       "                w           q           m           r          cc           k  \\\n",
       "count  552.000000  552.000000  552.000000  552.000000  552.000000  552.000000   \n",
       "mean     0.076087    0.215580    0.057971    0.038043    0.038043    0.083333   \n",
       "std      0.265378    0.411597    0.233901    0.191475    0.191475    0.276636   \n",
       "min      0.000000    0.000000    0.000000    0.000000    0.000000    0.000000   \n",
       "25%      0.000000    0.000000    0.000000    0.000000    0.000000    0.000000   \n",
       "50%      0.000000    0.000000    0.000000    0.000000    0.000000    0.000000   \n",
       "75%      0.000000    0.000000    0.000000    0.000000    0.000000    0.000000   \n",
       "max      1.000000    1.000000    1.000000    1.000000    1.000000    1.000000   \n",
       "\n",
       "               c           d           x           i           e          aa  \\\n",
       "count  552.00000  552.000000  552.000000  552.000000  552.000000  552.000000   \n",
       "mean     0.07971    0.014493    0.070652    0.059783    0.115942    0.005435   \n",
       "std      0.27109    0.119619    0.256475    0.237299    0.320446    0.073587   \n",
       "min      0.00000    0.000000    0.000000    0.000000    0.000000    0.000000   \n",
       "25%      0.00000    0.000000    0.000000    0.000000    0.000000    0.000000   \n",
       "50%      0.00000    0.000000    0.000000    0.000000    0.000000    0.000000   \n",
       "75%      0.00000    0.000000    0.000000    0.000000    0.000000    0.000000   \n",
       "max      1.00000    1.000000    1.000000    1.000000    1.000000    1.000000   \n",
       "\n",
       "               ff           j  marital status           u           y  \\\n",
       "count  552.000000  552.000000      552.000000  552.000000  552.000000   \n",
       "mean     0.088768    0.056159        0.442029    0.003623    0.780797   \n",
       "std      0.284667    0.230438        0.828425    0.060138    0.414082   \n",
       "min      0.000000    0.000000        0.000000    0.000000    0.000000   \n",
       "25%      0.000000    0.000000        0.000000    0.000000    1.000000   \n",
       "50%      0.000000    0.000000        0.000000    0.000000    1.000000   \n",
       "75%      0.000000    0.000000        0.000000    0.000000    1.000000   \n",
       "max      1.000000    1.000000        2.000000    1.000000    1.000000   \n",
       "\n",
       "                l  mean time at add         age      gender  \n",
       "count  552.000000        552.000000  552.000000  552.000000  \n",
       "mean     0.215580          1.399836    3.390216    0.695652  \n",
       "std      0.411597          0.846237    0.342115    0.460548  \n",
       "min      0.000000          0.000000    2.719320    0.000000  \n",
       "25%      0.000000          0.693147    3.124565    0.000000  \n",
       "50%      0.000000          1.264127    3.352707    1.000000  \n",
       "75%      0.000000          2.140066    3.624341    1.000000  \n",
       "max      1.000000          3.367296    4.385147    1.000000  "
      ]
     },
     "execution_count": 110,
     "metadata": {},
     "output_type": "execute_result"
    }
   ],
   "source": [
    "x_train.describe() "
   ]
  },
  {
   "cell_type": "markdown",
   "id": "406ef4c1",
   "metadata": {},
   "source": [
    "- From the statistics of the data it is clear that, there is no need for scaling as we have done log transformation of the continuous features and the values after transformation are within the range. "
   ]
  },
  {
   "cell_type": "markdown",
   "id": "3cdc822b",
   "metadata": {},
   "source": [
    "### 7. Model Training"
   ]
  },
  {
   "cell_type": "code",
   "execution_count": 111,
   "id": "f6953d60",
   "metadata": {},
   "outputs": [],
   "source": [
    "# importing required liabraries\n",
    "\n",
    "from sklearn.linear_model import LogisticRegression "
   ]
  },
  {
   "cell_type": "code",
   "execution_count": 115,
   "id": "22974de6",
   "metadata": {},
   "outputs": [],
   "source": [
    "import warnings\n",
    "warnings.filterwarnings('ignore')"
   ]
  },
  {
   "cell_type": "code",
   "execution_count": 124,
   "id": "4e8107f3",
   "metadata": {},
   "outputs": [],
   "source": [
    "lg_model=LogisticRegression()# instance created for logistic regression\n",
    "lg_train=lg_model.fit(x_train, y_train) # model is fitted."
   ]
  },
  {
   "cell_type": "markdown",
   "id": "4678c7e6",
   "metadata": {},
   "source": [
    "### 8. Model Evaluation"
   ]
  },
  {
   "cell_type": "code",
   "execution_count": 117,
   "id": "96f74fe2",
   "metadata": {},
   "outputs": [],
   "source": [
    "from sklearn.metrics import confusion_matrix,classification_report,accuracy_score,precision_score,recall_score"
   ]
  },
  {
   "cell_type": "code",
   "execution_count": 123,
   "id": "3da1f885",
   "metadata": {},
   "outputs": [
    {
     "name": "stdout",
     "output_type": "stream",
     "text": [
      "The confusion matrix is \n",
      " [[72  5]\n",
      " [ 9 52]]\n",
      "The accuracy score is \n",
      " 0.8985507246376812\n",
      "The classification report \n",
      "               precision    recall  f1-score   support\n",
      "\n",
      "           0       0.89      0.94      0.91        77\n",
      "           1       0.91      0.85      0.88        61\n",
      "\n",
      "    accuracy                           0.90       138\n",
      "   macro avg       0.90      0.89      0.90       138\n",
      "weighted avg       0.90      0.90      0.90       138\n",
      "\n",
      "The precision is\n",
      " 0.9122807017543859\n",
      "The recall is\n",
      " 0.8524590163934426\n"
     ]
    }
   ],
   "source": [
    "# On Testing Data\n",
    "y_pred=lg_train.predict(x_test)\n",
    "cnf_matr=confusion_matrix(y_test,y_pred)\n",
    "print(\"The confusion matrix is \\n\",cnf_matr)\n",
    "\n",
    "accu=accuracy_score(y_test,y_pred)\n",
    "print(\"The accuracy score is \\n\",accu)\n",
    "\n",
    "class_report=classification_report(y_test,y_pred)\n",
    "print(\"The classification report \\n\",class_report)\n",
    "\n",
    "pre=precision_score(y_test,y_pred)\n",
    "print(\"The precision is\\n\",pre)\n",
    "\n",
    "recall=recall_score(y_test,y_pred)\n",
    "print(\"The recall is\\n\",recall)"
   ]
  },
  {
   "cell_type": "markdown",
   "id": "b3e7fe12",
   "metadata": {},
   "source": [
    "<!-- On training Data -->"
   ]
  },
  {
   "cell_type": "code",
   "execution_count": 127,
   "id": "85a9ba4b",
   "metadata": {},
   "outputs": [
    {
     "name": "stdout",
     "output_type": "stream",
     "text": [
      "The confusion matrix is\n",
      " [[270  36]\n",
      " [ 34 212]]\n",
      "The precision is\n",
      " 0.8548387096774194\n",
      "The classification report is\n",
      "               precision    recall  f1-score   support\n",
      "\n",
      "           0       0.89      0.88      0.89       306\n",
      "           1       0.85      0.86      0.86       246\n",
      "\n",
      "    accuracy                           0.87       552\n",
      "   macro avg       0.87      0.87      0.87       552\n",
      "weighted avg       0.87      0.87      0.87       552\n",
      "\n",
      "The accuracy is\n",
      " 0.8731884057971014\n",
      "The recall is\n",
      " 0.8617886178861789\n"
     ]
    }
   ],
   "source": [
    "# on training data\n",
    "y_tr_pred=lg_train.predict(x_train)\n",
    "\n",
    "cnf_tr=confusion_matrix(y_train,y_tr_pred)\n",
    "print(\"The confusion matrix is\\n\",cnf_tr)\n",
    "\n",
    "pre_tr=precision_score(y_train,y_tr_pred)\n",
    "print(\"The precision is\\n\",pre_tr)\n",
    "\n",
    "class_re_tr=classification_report(y_train,y_tr_pred)\n",
    "print(\"The classification report is\\n\",class_re_tr)\n",
    "\n",
    "accu_tr=accuracy_score(y_train,y_tr_pred)\n",
    "print(\"The accuracy is\\n\",accu_tr)\n",
    "\n",
    "recall_tr=recall_score(y_train,y_tr_pred)\n",
    "print(\"The recall is\\n\",recall_tr)\n"
   ]
  },
  {
   "cell_type": "markdown",
   "id": "08fdf3cd",
   "metadata": {},
   "source": [
    "- from above values of accuracy and classification report we can say that, the model has good score on both testing and training data. \n",
    "- From the business point of view both the precision and recall is important. The misclassification i.e., number of False positive and False negative should be minimized by changing the threshold. This can be done by plotting the ROC-AUC curve."
   ]
  },
  {
   "cell_type": "markdown",
   "id": "a07cb83d",
   "metadata": {},
   "source": [
    "### Exporting Model as PKL file"
   ]
  },
  {
   "cell_type": "code",
   "execution_count": 130,
   "id": "63f53963",
   "metadata": {},
   "outputs": [],
   "source": [
    "import pickle as pk"
   ]
  },
  {
   "cell_type": "code",
   "execution_count": 131,
   "id": "3daa82ee",
   "metadata": {},
   "outputs": [],
   "source": [
    "with open (\"lg_train.pkl\",'wb') as file:\n",
    "    pk.dump(lg_train,file)"
   ]
  },
  {
   "cell_type": "markdown",
   "id": "a548a32d",
   "metadata": {},
   "source": [
    "#### API Testing and Deployment"
   ]
  },
  {
   "cell_type": "code",
   "execution_count": 1,
   "id": "2cd2e48e",
   "metadata": {},
   "outputs": [
    {
     "name": "stdout",
     "output_type": "stream",
     "text": [
      "Note: you may need to restart the kernel to use updated packages.\n"
     ]
    }
   ],
   "source": [
    "pip freeze > requirements.txt"
   ]
  }
 ],
 "metadata": {
  "kernelspec": {
   "display_name": "Python 3 (ipykernel)",
   "language": "python",
   "name": "python3"
  },
  "language_info": {
   "codemirror_mode": {
    "name": "ipython",
    "version": 3
   },
   "file_extension": ".py",
   "mimetype": "text/x-python",
   "name": "python",
   "nbconvert_exporter": "python",
   "pygments_lexer": "ipython3",
   "version": "3.11.4"
  }
 },
 "nbformat": 4,
 "nbformat_minor": 5
}
